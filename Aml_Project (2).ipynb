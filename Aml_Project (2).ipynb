{
  "nbformat": 4,
  "nbformat_minor": 0,
  "metadata": {
    "colab": {
      "provenance": []
    },
    "kernelspec": {
      "name": "python3",
      "display_name": "Python 3"
    },
    "language_info": {
      "name": "python"
    }
  },
  "cells": [
    {
      "cell_type": "code",
      "execution_count": null,
      "metadata": {
        "id": "XwZGcdGdIYNC"
      },
      "outputs": [],
      "source": [
        "import pandas as pd\n",
        "import numpy as np\n",
        "import seaborn as sns\n",
        "import scipy.stats as stats\n",
        "import matplotlib.pyplot as plt\n",
        "from sklearn.model_selection import train_test_split\n",
        "from sklearn.preprocessing import StandardScaler, LabelEncoder\n",
        "from sklearn.linear_model import LinearRegression\n",
        "from sklearn.tree import DecisionTreeRegressor\n",
        "from sklearn.ensemble import RandomForestRegressor, GradientBoostingRegressor\n",
        "from sklearn.metrics import mean_squared_error, r2_score\n",
        "\n"
      ]
    },
    {
      "cell_type": "code",
      "source": [
        "#a)\tImport data"
      ],
      "metadata": {
        "id": "6qxVqF0yKY2E"
      },
      "execution_count": null,
      "outputs": []
    },
    {
      "cell_type": "code",
      "source": [
        "\n",
        "Taxi = pd.read_parquet('/content/green_tripdata_2023-06.parquet')\n"
      ],
      "metadata": {
        "id": "O5XSeqLMI4OZ"
      },
      "execution_count": null,
      "outputs": []
    },
    {
      "cell_type": "code",
      "source": [
        "print(\"Data Information\")"
      ],
      "metadata": {
        "colab": {
          "base_uri": "https://localhost:8080/"
        },
        "id": "4P9l5wsYJFjd",
        "outputId": "8f25ec40-45d9-479c-ecdb-8d92f1239c30"
      },
      "execution_count": null,
      "outputs": [
        {
          "output_type": "stream",
          "name": "stdout",
          "text": [
            "Data Information\n"
          ]
        }
      ]
    },
    {
      "cell_type": "code",
      "source": [
        "# a) Dataset Loaded using info()"
      ],
      "metadata": {
        "id": "JRJgj-n6KeYC"
      },
      "execution_count": null,
      "outputs": []
    },
    {
      "cell_type": "code",
      "source": [
        "Taxi.info()"
      ],
      "metadata": {
        "colab": {
          "base_uri": "https://localhost:8080/"
        },
        "id": "j0Q-whJFJWCG",
        "outputId": "3d926c25-9d11-4781-eec5-d7d2dc851f71"
      },
      "execution_count": null,
      "outputs": [
        {
          "output_type": "stream",
          "name": "stdout",
          "text": [
            "<class 'pandas.core.frame.DataFrame'>\n",
            "RangeIndex: 65550 entries, 0 to 65549\n",
            "Data columns (total 20 columns):\n",
            " #   Column                 Non-Null Count  Dtype         \n",
            "---  ------                 --------------  -----         \n",
            " 0   VendorID               65550 non-null  int32         \n",
            " 1   lpep_pickup_datetime   65550 non-null  datetime64[us]\n",
            " 2   lpep_dropoff_datetime  65550 non-null  datetime64[us]\n",
            " 3   store_and_fwd_flag     60359 non-null  object        \n",
            " 4   RatecodeID             60359 non-null  float64       \n",
            " 5   PULocationID           65550 non-null  int32         \n",
            " 6   DOLocationID           65550 non-null  int32         \n",
            " 7   passenger_count        60359 non-null  float64       \n",
            " 8   trip_distance          65550 non-null  float64       \n",
            " 9   fare_amount            65550 non-null  float64       \n",
            " 10  extra                  65550 non-null  float64       \n",
            " 11  mta_tax                65550 non-null  float64       \n",
            " 12  tip_amount             65550 non-null  float64       \n",
            " 13  tolls_amount           65550 non-null  float64       \n",
            " 14  ehail_fee              0 non-null      float64       \n",
            " 15  improvement_surcharge  65550 non-null  float64       \n",
            " 16  total_amount           65550 non-null  float64       \n",
            " 17  payment_type           60359 non-null  float64       \n",
            " 18  trip_type              60359 non-null  float64       \n",
            " 19  congestion_surcharge   60359 non-null  float64       \n",
            "dtypes: datetime64[us](2), float64(14), int32(3), object(1)\n",
            "memory usage: 9.3+ MB\n"
          ]
        }
      ]
    },
    {
      "cell_type": "code",
      "source": [
        "Taxi.head(4)"
      ],
      "metadata": {
        "colab": {
          "base_uri": "https://localhost:8080/",
          "height": 195
        },
        "id": "7n50dyLnkbpJ",
        "outputId": "378f52a3-e075-4fe1-c312-164a8fc2bc72"
      },
      "execution_count": null,
      "outputs": [
        {
          "output_type": "execute_result",
          "data": {
            "text/plain": [
              "   VendorID lpep_pickup_datetime lpep_dropoff_datetime store_and_fwd_flag  \\\n",
              "0         2  2023-06-01 00:32:25   2023-06-01 00:39:06                  N   \n",
              "1         2  2023-06-01 00:39:07   2023-06-01 00:51:59                  N   \n",
              "2         2  2023-06-01 00:35:59   2023-06-01 00:57:06                  N   \n",
              "3         2  2023-06-01 00:50:29   2023-06-01 01:00:32                  N   \n",
              "\n",
              "   RatecodeID  PULocationID  DOLocationID  passenger_count  trip_distance  \\\n",
              "0         1.0            74            42              1.0           0.84   \n",
              "1         1.0            41           229              1.0           4.05   \n",
              "2         1.0            97            89              1.0           4.26   \n",
              "3         1.0            75           263              1.0           1.79   \n",
              "\n",
              "   fare_amount  extra  mta_tax  tip_amount  tolls_amount  ehail_fee  \\\n",
              "0          7.9    1.0      0.5        2.08           0.0        NaN   \n",
              "1         19.1    1.0      0.5        3.65           0.0        NaN   \n",
              "2         23.3    1.0      0.5        5.16           0.0        NaN   \n",
              "3         12.1    1.0      0.5        3.47           0.0        NaN   \n",
              "\n",
              "   improvement_surcharge  total_amount  payment_type  trip_type  \\\n",
              "0                    1.0         12.48           1.0        1.0   \n",
              "1                    1.0         28.00           1.0        1.0   \n",
              "2                    1.0         30.96           1.0        1.0   \n",
              "3                    1.0         20.82           1.0        1.0   \n",
              "\n",
              "   congestion_surcharge  \n",
              "0                  0.00  \n",
              "1                  2.75  \n",
              "2                  0.00  \n",
              "3                  2.75  "
            ],
            "text/html": [
              "\n",
              "  <div id=\"df-19efa953-ff92-41ba-bc69-1e4cf404ed7a\" class=\"colab-df-container\">\n",
              "    <div>\n",
              "<style scoped>\n",
              "    .dataframe tbody tr th:only-of-type {\n",
              "        vertical-align: middle;\n",
              "    }\n",
              "\n",
              "    .dataframe tbody tr th {\n",
              "        vertical-align: top;\n",
              "    }\n",
              "\n",
              "    .dataframe thead th {\n",
              "        text-align: right;\n",
              "    }\n",
              "</style>\n",
              "<table border=\"1\" class=\"dataframe\">\n",
              "  <thead>\n",
              "    <tr style=\"text-align: right;\">\n",
              "      <th></th>\n",
              "      <th>VendorID</th>\n",
              "      <th>lpep_pickup_datetime</th>\n",
              "      <th>lpep_dropoff_datetime</th>\n",
              "      <th>store_and_fwd_flag</th>\n",
              "      <th>RatecodeID</th>\n",
              "      <th>PULocationID</th>\n",
              "      <th>DOLocationID</th>\n",
              "      <th>passenger_count</th>\n",
              "      <th>trip_distance</th>\n",
              "      <th>fare_amount</th>\n",
              "      <th>extra</th>\n",
              "      <th>mta_tax</th>\n",
              "      <th>tip_amount</th>\n",
              "      <th>tolls_amount</th>\n",
              "      <th>ehail_fee</th>\n",
              "      <th>improvement_surcharge</th>\n",
              "      <th>total_amount</th>\n",
              "      <th>payment_type</th>\n",
              "      <th>trip_type</th>\n",
              "      <th>congestion_surcharge</th>\n",
              "    </tr>\n",
              "  </thead>\n",
              "  <tbody>\n",
              "    <tr>\n",
              "      <th>0</th>\n",
              "      <td>2</td>\n",
              "      <td>2023-06-01 00:32:25</td>\n",
              "      <td>2023-06-01 00:39:06</td>\n",
              "      <td>N</td>\n",
              "      <td>1.0</td>\n",
              "      <td>74</td>\n",
              "      <td>42</td>\n",
              "      <td>1.0</td>\n",
              "      <td>0.84</td>\n",
              "      <td>7.9</td>\n",
              "      <td>1.0</td>\n",
              "      <td>0.5</td>\n",
              "      <td>2.08</td>\n",
              "      <td>0.0</td>\n",
              "      <td>NaN</td>\n",
              "      <td>1.0</td>\n",
              "      <td>12.48</td>\n",
              "      <td>1.0</td>\n",
              "      <td>1.0</td>\n",
              "      <td>0.00</td>\n",
              "    </tr>\n",
              "    <tr>\n",
              "      <th>1</th>\n",
              "      <td>2</td>\n",
              "      <td>2023-06-01 00:39:07</td>\n",
              "      <td>2023-06-01 00:51:59</td>\n",
              "      <td>N</td>\n",
              "      <td>1.0</td>\n",
              "      <td>41</td>\n",
              "      <td>229</td>\n",
              "      <td>1.0</td>\n",
              "      <td>4.05</td>\n",
              "      <td>19.1</td>\n",
              "      <td>1.0</td>\n",
              "      <td>0.5</td>\n",
              "      <td>3.65</td>\n",
              "      <td>0.0</td>\n",
              "      <td>NaN</td>\n",
              "      <td>1.0</td>\n",
              "      <td>28.00</td>\n",
              "      <td>1.0</td>\n",
              "      <td>1.0</td>\n",
              "      <td>2.75</td>\n",
              "    </tr>\n",
              "    <tr>\n",
              "      <th>2</th>\n",
              "      <td>2</td>\n",
              "      <td>2023-06-01 00:35:59</td>\n",
              "      <td>2023-06-01 00:57:06</td>\n",
              "      <td>N</td>\n",
              "      <td>1.0</td>\n",
              "      <td>97</td>\n",
              "      <td>89</td>\n",
              "      <td>1.0</td>\n",
              "      <td>4.26</td>\n",
              "      <td>23.3</td>\n",
              "      <td>1.0</td>\n",
              "      <td>0.5</td>\n",
              "      <td>5.16</td>\n",
              "      <td>0.0</td>\n",
              "      <td>NaN</td>\n",
              "      <td>1.0</td>\n",
              "      <td>30.96</td>\n",
              "      <td>1.0</td>\n",
              "      <td>1.0</td>\n",
              "      <td>0.00</td>\n",
              "    </tr>\n",
              "    <tr>\n",
              "      <th>3</th>\n",
              "      <td>2</td>\n",
              "      <td>2023-06-01 00:50:29</td>\n",
              "      <td>2023-06-01 01:00:32</td>\n",
              "      <td>N</td>\n",
              "      <td>1.0</td>\n",
              "      <td>75</td>\n",
              "      <td>263</td>\n",
              "      <td>1.0</td>\n",
              "      <td>1.79</td>\n",
              "      <td>12.1</td>\n",
              "      <td>1.0</td>\n",
              "      <td>0.5</td>\n",
              "      <td>3.47</td>\n",
              "      <td>0.0</td>\n",
              "      <td>NaN</td>\n",
              "      <td>1.0</td>\n",
              "      <td>20.82</td>\n",
              "      <td>1.0</td>\n",
              "      <td>1.0</td>\n",
              "      <td>2.75</td>\n",
              "    </tr>\n",
              "  </tbody>\n",
              "</table>\n",
              "</div>\n",
              "    <div class=\"colab-df-buttons\">\n",
              "\n",
              "  <div class=\"colab-df-container\">\n",
              "    <button class=\"colab-df-convert\" onclick=\"convertToInteractive('df-19efa953-ff92-41ba-bc69-1e4cf404ed7a')\"\n",
              "            title=\"Convert this dataframe to an interactive table.\"\n",
              "            style=\"display:none;\">\n",
              "\n",
              "  <svg xmlns=\"http://www.w3.org/2000/svg\" height=\"24px\" viewBox=\"0 -960 960 960\">\n",
              "    <path d=\"M120-120v-720h720v720H120Zm60-500h600v-160H180v160Zm220 220h160v-160H400v160Zm0 220h160v-160H400v160ZM180-400h160v-160H180v160Zm440 0h160v-160H620v160ZM180-180h160v-160H180v160Zm440 0h160v-160H620v160Z\"/>\n",
              "  </svg>\n",
              "    </button>\n",
              "\n",
              "  <style>\n",
              "    .colab-df-container {\n",
              "      display:flex;\n",
              "      gap: 12px;\n",
              "    }\n",
              "\n",
              "    .colab-df-convert {\n",
              "      background-color: #E8F0FE;\n",
              "      border: none;\n",
              "      border-radius: 50%;\n",
              "      cursor: pointer;\n",
              "      display: none;\n",
              "      fill: #1967D2;\n",
              "      height: 32px;\n",
              "      padding: 0 0 0 0;\n",
              "      width: 32px;\n",
              "    }\n",
              "\n",
              "    .colab-df-convert:hover {\n",
              "      background-color: #E2EBFA;\n",
              "      box-shadow: 0px 1px 2px rgba(60, 64, 67, 0.3), 0px 1px 3px 1px rgba(60, 64, 67, 0.15);\n",
              "      fill: #174EA6;\n",
              "    }\n",
              "\n",
              "    .colab-df-buttons div {\n",
              "      margin-bottom: 4px;\n",
              "    }\n",
              "\n",
              "    [theme=dark] .colab-df-convert {\n",
              "      background-color: #3B4455;\n",
              "      fill: #D2E3FC;\n",
              "    }\n",
              "\n",
              "    [theme=dark] .colab-df-convert:hover {\n",
              "      background-color: #434B5C;\n",
              "      box-shadow: 0px 1px 3px 1px rgba(0, 0, 0, 0.15);\n",
              "      filter: drop-shadow(0px 1px 2px rgba(0, 0, 0, 0.3));\n",
              "      fill: #FFFFFF;\n",
              "    }\n",
              "  </style>\n",
              "\n",
              "    <script>\n",
              "      const buttonEl =\n",
              "        document.querySelector('#df-19efa953-ff92-41ba-bc69-1e4cf404ed7a button.colab-df-convert');\n",
              "      buttonEl.style.display =\n",
              "        google.colab.kernel.accessAllowed ? 'block' : 'none';\n",
              "\n",
              "      async function convertToInteractive(key) {\n",
              "        const element = document.querySelector('#df-19efa953-ff92-41ba-bc69-1e4cf404ed7a');\n",
              "        const dataTable =\n",
              "          await google.colab.kernel.invokeFunction('convertToInteractive',\n",
              "                                                    [key], {});\n",
              "        if (!dataTable) return;\n",
              "\n",
              "        const docLinkHtml = 'Like what you see? Visit the ' +\n",
              "          '<a target=\"_blank\" href=https://colab.research.google.com/notebooks/data_table.ipynb>data table notebook</a>'\n",
              "          + ' to learn more about interactive tables.';\n",
              "        element.innerHTML = '';\n",
              "        dataTable['output_type'] = 'display_data';\n",
              "        await google.colab.output.renderOutput(dataTable, element);\n",
              "        const docLink = document.createElement('div');\n",
              "        docLink.innerHTML = docLinkHtml;\n",
              "        element.appendChild(docLink);\n",
              "      }\n",
              "    </script>\n",
              "  </div>\n",
              "\n",
              "\n",
              "<div id=\"df-52bf8f4a-9c6a-4e8e-a269-bba156ff9955\">\n",
              "  <button class=\"colab-df-quickchart\" onclick=\"quickchart('df-52bf8f4a-9c6a-4e8e-a269-bba156ff9955')\"\n",
              "            title=\"Suggest charts\"\n",
              "            style=\"display:none;\">\n",
              "\n",
              "<svg xmlns=\"http://www.w3.org/2000/svg\" height=\"24px\"viewBox=\"0 0 24 24\"\n",
              "     width=\"24px\">\n",
              "    <g>\n",
              "        <path d=\"M19 3H5c-1.1 0-2 .9-2 2v14c0 1.1.9 2 2 2h14c1.1 0 2-.9 2-2V5c0-1.1-.9-2-2-2zM9 17H7v-7h2v7zm4 0h-2V7h2v10zm4 0h-2v-4h2v4z\"/>\n",
              "    </g>\n",
              "</svg>\n",
              "  </button>\n",
              "\n",
              "<style>\n",
              "  .colab-df-quickchart {\n",
              "      --bg-color: #E8F0FE;\n",
              "      --fill-color: #1967D2;\n",
              "      --hover-bg-color: #E2EBFA;\n",
              "      --hover-fill-color: #174EA6;\n",
              "      --disabled-fill-color: #AAA;\n",
              "      --disabled-bg-color: #DDD;\n",
              "  }\n",
              "\n",
              "  [theme=dark] .colab-df-quickchart {\n",
              "      --bg-color: #3B4455;\n",
              "      --fill-color: #D2E3FC;\n",
              "      --hover-bg-color: #434B5C;\n",
              "      --hover-fill-color: #FFFFFF;\n",
              "      --disabled-bg-color: #3B4455;\n",
              "      --disabled-fill-color: #666;\n",
              "  }\n",
              "\n",
              "  .colab-df-quickchart {\n",
              "    background-color: var(--bg-color);\n",
              "    border: none;\n",
              "    border-radius: 50%;\n",
              "    cursor: pointer;\n",
              "    display: none;\n",
              "    fill: var(--fill-color);\n",
              "    height: 32px;\n",
              "    padding: 0;\n",
              "    width: 32px;\n",
              "  }\n",
              "\n",
              "  .colab-df-quickchart:hover {\n",
              "    background-color: var(--hover-bg-color);\n",
              "    box-shadow: 0 1px 2px rgba(60, 64, 67, 0.3), 0 1px 3px 1px rgba(60, 64, 67, 0.15);\n",
              "    fill: var(--button-hover-fill-color);\n",
              "  }\n",
              "\n",
              "  .colab-df-quickchart-complete:disabled,\n",
              "  .colab-df-quickchart-complete:disabled:hover {\n",
              "    background-color: var(--disabled-bg-color);\n",
              "    fill: var(--disabled-fill-color);\n",
              "    box-shadow: none;\n",
              "  }\n",
              "\n",
              "  .colab-df-spinner {\n",
              "    border: 2px solid var(--fill-color);\n",
              "    border-color: transparent;\n",
              "    border-bottom-color: var(--fill-color);\n",
              "    animation:\n",
              "      spin 1s steps(1) infinite;\n",
              "  }\n",
              "\n",
              "  @keyframes spin {\n",
              "    0% {\n",
              "      border-color: transparent;\n",
              "      border-bottom-color: var(--fill-color);\n",
              "      border-left-color: var(--fill-color);\n",
              "    }\n",
              "    20% {\n",
              "      border-color: transparent;\n",
              "      border-left-color: var(--fill-color);\n",
              "      border-top-color: var(--fill-color);\n",
              "    }\n",
              "    30% {\n",
              "      border-color: transparent;\n",
              "      border-left-color: var(--fill-color);\n",
              "      border-top-color: var(--fill-color);\n",
              "      border-right-color: var(--fill-color);\n",
              "    }\n",
              "    40% {\n",
              "      border-color: transparent;\n",
              "      border-right-color: var(--fill-color);\n",
              "      border-top-color: var(--fill-color);\n",
              "    }\n",
              "    60% {\n",
              "      border-color: transparent;\n",
              "      border-right-color: var(--fill-color);\n",
              "    }\n",
              "    80% {\n",
              "      border-color: transparent;\n",
              "      border-right-color: var(--fill-color);\n",
              "      border-bottom-color: var(--fill-color);\n",
              "    }\n",
              "    90% {\n",
              "      border-color: transparent;\n",
              "      border-bottom-color: var(--fill-color);\n",
              "    }\n",
              "  }\n",
              "</style>\n",
              "\n",
              "  <script>\n",
              "    async function quickchart(key) {\n",
              "      const quickchartButtonEl =\n",
              "        document.querySelector('#' + key + ' button');\n",
              "      quickchartButtonEl.disabled = true;  // To prevent multiple clicks.\n",
              "      quickchartButtonEl.classList.add('colab-df-spinner');\n",
              "      try {\n",
              "        const charts = await google.colab.kernel.invokeFunction(\n",
              "            'suggestCharts', [key], {});\n",
              "      } catch (error) {\n",
              "        console.error('Error during call to suggestCharts:', error);\n",
              "      }\n",
              "      quickchartButtonEl.classList.remove('colab-df-spinner');\n",
              "      quickchartButtonEl.classList.add('colab-df-quickchart-complete');\n",
              "    }\n",
              "    (() => {\n",
              "      let quickchartButtonEl =\n",
              "        document.querySelector('#df-52bf8f4a-9c6a-4e8e-a269-bba156ff9955 button');\n",
              "      quickchartButtonEl.style.display =\n",
              "        google.colab.kernel.accessAllowed ? 'block' : 'none';\n",
              "    })();\n",
              "  </script>\n",
              "</div>\n",
              "\n",
              "    </div>\n",
              "  </div>\n"
            ],
            "application/vnd.google.colaboratory.intrinsic+json": {
              "type": "dataframe",
              "variable_name": "Taxi",
              "summary": "{\n  \"name\": \"Taxi\",\n  \"rows\": 65550,\n  \"fields\": [\n    {\n      \"column\": \"VendorID\",\n      \"properties\": {\n        \"dtype\": \"int32\",\n        \"num_unique_values\": 2,\n        \"samples\": [\n          1,\n          2\n        ],\n        \"semantic_type\": \"\",\n        \"description\": \"\"\n      }\n    },\n    {\n      \"column\": \"lpep_pickup_datetime\",\n      \"properties\": {\n        \"dtype\": \"date\",\n        \"min\": \"2023-05-26 01:58:10\",\n        \"max\": \"2023-07-01 23:59:30\",\n        \"num_unique_values\": 63972,\n        \"samples\": [\n          \"2023-06-03 17:33:15\",\n          \"2023-06-15 19:24:11\"\n        ],\n        \"semantic_type\": \"\",\n        \"description\": \"\"\n      }\n    },\n    {\n      \"column\": \"lpep_dropoff_datetime\",\n      \"properties\": {\n        \"dtype\": \"date\",\n        \"min\": \"2023-05-26 01:58:13\",\n        \"max\": \"2023-07-02 00:32:47\",\n        \"num_unique_values\": 63829,\n        \"samples\": [\n          \"2023-06-27 15:03:48\",\n          \"2023-06-15 19:13:27\"\n        ],\n        \"semantic_type\": \"\",\n        \"description\": \"\"\n      }\n    },\n    {\n      \"column\": \"store_and_fwd_flag\",\n      \"properties\": {\n        \"dtype\": \"category\",\n        \"num_unique_values\": 2,\n        \"samples\": [\n          \"Y\",\n          \"N\"\n        ],\n        \"semantic_type\": \"\",\n        \"description\": \"\"\n      }\n    },\n    {\n      \"column\": \"RatecodeID\",\n      \"properties\": {\n        \"dtype\": \"number\",\n        \"std\": 0.7726537202533912,\n        \"min\": 1.0,\n        \"max\": 6.0,\n        \"num_unique_values\": 6,\n        \"samples\": [\n          1.0,\n          5.0\n        ],\n        \"semantic_type\": \"\",\n        \"description\": \"\"\n      }\n    },\n    {\n      \"column\": \"PULocationID\",\n      \"properties\": {\n        \"dtype\": \"int32\",\n        \"num_unique_values\": 226,\n        \"samples\": [\n          61,\n          170\n        ],\n        \"semantic_type\": \"\",\n        \"description\": \"\"\n      }\n    },\n    {\n      \"column\": \"DOLocationID\",\n      \"properties\": {\n        \"dtype\": \"int32\",\n        \"num_unique_values\": 250,\n        \"samples\": [\n          149,\n          142\n        ],\n        \"semantic_type\": \"\",\n        \"description\": \"\"\n      }\n    },\n    {\n      \"column\": \"passenger_count\",\n      \"properties\": {\n        \"dtype\": \"number\",\n        \"std\": 0.9049356395269066,\n        \"min\": 0.0,\n        \"max\": 9.0,\n        \"num_unique_values\": 10,\n        \"samples\": [\n          7.0,\n          2.0\n        ],\n        \"semantic_type\": \"\",\n        \"description\": \"\"\n      }\n    },\n    {\n      \"column\": \"trip_distance\",\n      \"properties\": {\n        \"dtype\": \"number\",\n        \"std\": 1114.4017475204737,\n        \"min\": 0.0,\n        \"max\": 179375.16,\n        \"num_unique_values\": 2153,\n        \"samples\": [\n          11.46,\n          14.34\n        ],\n        \"semantic_type\": \"\",\n        \"description\": \"\"\n      }\n    },\n    {\n      \"column\": \"fare_amount\",\n      \"properties\": {\n        \"dtype\": \"number\",\n        \"std\": 22.605563784388295,\n        \"min\": -240.0,\n        \"max\": 4003.0,\n        \"num_unique_values\": 3122,\n        \"samples\": [\n          40.98,\n          24.13\n        ],\n        \"semantic_type\": \"\",\n        \"description\": \"\"\n      }\n    },\n    {\n      \"column\": \"extra\",\n      \"properties\": {\n        \"dtype\": \"number\",\n        \"std\": 1.327903800726714,\n        \"min\": -2.5,\n        \"max\": 10.0,\n        \"num_unique_values\": 17,\n        \"samples\": [\n          1.0,\n          0.0\n        ],\n        \"semantic_type\": \"\",\n        \"description\": \"\"\n      }\n    },\n    {\n      \"column\": \"mta_tax\",\n      \"properties\": {\n        \"dtype\": \"number\",\n        \"std\": 0.38144282185833156,\n        \"min\": -0.5,\n        \"max\": 1.5,\n        \"num_unique_values\": 5,\n        \"samples\": [\n          0.0,\n          -0.5\n        ],\n        \"semantic_type\": \"\",\n        \"description\": \"\"\n      }\n    },\n    {\n      \"column\": \"tip_amount\",\n      \"properties\": {\n        \"dtype\": \"number\",\n        \"std\": 3.308543229618724,\n        \"min\": -0.9,\n        \"max\": 96.3,\n        \"num_unique_values\": 1626,\n        \"samples\": [\n          4.66,\n          13.18\n        ],\n        \"semantic_type\": \"\",\n        \"description\": \"\"\n      }\n    },\n    {\n      \"column\": \"tolls_amount\",\n      \"properties\": {\n        \"dtype\": \"number\",\n        \"std\": 1.3555646770442003,\n        \"min\": 0.0,\n        \"max\": 29.5,\n        \"num_unique_values\": 27,\n        \"samples\": [\n          14.75,\n          2.75\n        ],\n        \"semantic_type\": \"\",\n        \"description\": \"\"\n      }\n    },\n    {\n      \"column\": \"ehail_fee\",\n      \"properties\": {\n        \"dtype\": \"number\",\n        \"std\": null,\n        \"min\": null,\n        \"max\": null,\n        \"num_unique_values\": 0,\n        \"samples\": [],\n        \"semantic_type\": \"\",\n        \"description\": \"\"\n      }\n    },\n    {\n      \"column\": \"improvement_surcharge\",\n      \"properties\": {\n        \"dtype\": \"number\",\n        \"std\": 0.13257922922321694,\n        \"min\": -1.0,\n        \"max\": 1.0,\n        \"num_unique_values\": 5,\n        \"samples\": [],\n        \"semantic_type\": \"\",\n        \"description\": \"\"\n      }\n    },\n    {\n      \"column\": \"total_amount\",\n      \"properties\": {\n        \"dtype\": \"number\",\n        \"std\": 24.247959908889758,\n        \"min\": -241.0,\n        \"max\": 4004.5,\n        \"num_unique_values\": 5328,\n        \"samples\": [],\n        \"semantic_type\": \"\",\n        \"description\": \"\"\n      }\n    },\n    {\n      \"column\": \"payment_type\",\n      \"properties\": {\n        \"dtype\": \"number\",\n        \"std\": 0.5016581680787446,\n        \"min\": 1.0,\n        \"max\": 5.0,\n        \"num_unique_values\": 5,\n        \"samples\": [],\n        \"semantic_type\": \"\",\n        \"description\": \"\"\n      }\n    },\n    {\n      \"column\": \"trip_type\",\n      \"properties\": {\n        \"dtype\": \"number\",\n        \"std\": 0.18513517062883578,\n        \"min\": 1.0,\n        \"max\": 2.0,\n        \"num_unique_values\": 2,\n        \"samples\": [],\n        \"semantic_type\": \"\",\n        \"description\": \"\"\n      }\n    },\n    {\n      \"column\": \"congestion_surcharge\",\n      \"properties\": {\n        \"dtype\": \"number\",\n        \"std\": 1.2231154076016857,\n        \"min\": -2.75,\n        \"max\": 2.75,\n        \"num_unique_values\": 4,\n        \"samples\": [],\n        \"semantic_type\": \"\",\n        \"description\": \"\"\n      }\n    }\n  ]\n}"
            }
          },
          "metadata": {},
          "execution_count": 7
        }
      ]
    },
    {
      "cell_type": "code",
      "source": [
        "Taxi.tail(4)"
      ],
      "metadata": {
        "colab": {
          "base_uri": "https://localhost:8080/",
          "height": 195
        },
        "id": "AVFFqrj4ka4a",
        "outputId": "79274493-734b-421f-9ed9-a4c1ba4c61c5"
      },
      "execution_count": null,
      "outputs": [
        {
          "output_type": "execute_result",
          "data": {
            "text/plain": [
              "       VendorID lpep_pickup_datetime lpep_dropoff_datetime store_and_fwd_flag  \\\n",
              "65546         2  2023-06-30 23:31:00   2023-06-30 23:41:00               None   \n",
              "65547         2  2023-06-30 23:03:00   2023-06-30 23:22:00               None   \n",
              "65548         2  2023-06-30 23:12:00   2023-06-30 23:32:00               None   \n",
              "65549         2  2023-06-30 23:36:00   2023-06-30 23:48:00               None   \n",
              "\n",
              "       RatecodeID  PULocationID  DOLocationID  passenger_count  trip_distance  \\\n",
              "65546         NaN           223           260              NaN           3.05   \n",
              "65547         NaN           134           180              NaN           3.75   \n",
              "65548         NaN            33           157              NaN           5.29   \n",
              "65549         NaN           152            41              NaN           1.82   \n",
              "\n",
              "       fare_amount  extra  mta_tax  tip_amount  tolls_amount  ehail_fee  \\\n",
              "65546        13.76    0.0      0.0        2.95           0.0        NaN   \n",
              "65547        19.93    0.0      0.0        1.05           0.0        NaN   \n",
              "65548        27.20    0.0      0.0        5.64           0.0        NaN   \n",
              "65549        13.24    0.0      0.0        2.85           0.0        NaN   \n",
              "\n",
              "       improvement_surcharge  total_amount  payment_type  trip_type  \\\n",
              "65546                    1.0         17.71           NaN        NaN   \n",
              "65547                    1.0         21.98           NaN        NaN   \n",
              "65548                    1.0         33.84           NaN        NaN   \n",
              "65549                    1.0         17.09           NaN        NaN   \n",
              "\n",
              "       congestion_surcharge  \n",
              "65546                   NaN  \n",
              "65547                   NaN  \n",
              "65548                   NaN  \n",
              "65549                   NaN  "
            ],
            "text/html": [
              "\n",
              "  <div id=\"df-234035df-8a30-4401-83af-d879f8a68ccf\" class=\"colab-df-container\">\n",
              "    <div>\n",
              "<style scoped>\n",
              "    .dataframe tbody tr th:only-of-type {\n",
              "        vertical-align: middle;\n",
              "    }\n",
              "\n",
              "    .dataframe tbody tr th {\n",
              "        vertical-align: top;\n",
              "    }\n",
              "\n",
              "    .dataframe thead th {\n",
              "        text-align: right;\n",
              "    }\n",
              "</style>\n",
              "<table border=\"1\" class=\"dataframe\">\n",
              "  <thead>\n",
              "    <tr style=\"text-align: right;\">\n",
              "      <th></th>\n",
              "      <th>VendorID</th>\n",
              "      <th>lpep_pickup_datetime</th>\n",
              "      <th>lpep_dropoff_datetime</th>\n",
              "      <th>store_and_fwd_flag</th>\n",
              "      <th>RatecodeID</th>\n",
              "      <th>PULocationID</th>\n",
              "      <th>DOLocationID</th>\n",
              "      <th>passenger_count</th>\n",
              "      <th>trip_distance</th>\n",
              "      <th>fare_amount</th>\n",
              "      <th>extra</th>\n",
              "      <th>mta_tax</th>\n",
              "      <th>tip_amount</th>\n",
              "      <th>tolls_amount</th>\n",
              "      <th>ehail_fee</th>\n",
              "      <th>improvement_surcharge</th>\n",
              "      <th>total_amount</th>\n",
              "      <th>payment_type</th>\n",
              "      <th>trip_type</th>\n",
              "      <th>congestion_surcharge</th>\n",
              "    </tr>\n",
              "  </thead>\n",
              "  <tbody>\n",
              "    <tr>\n",
              "      <th>65546</th>\n",
              "      <td>2</td>\n",
              "      <td>2023-06-30 23:31:00</td>\n",
              "      <td>2023-06-30 23:41:00</td>\n",
              "      <td>None</td>\n",
              "      <td>NaN</td>\n",
              "      <td>223</td>\n",
              "      <td>260</td>\n",
              "      <td>NaN</td>\n",
              "      <td>3.05</td>\n",
              "      <td>13.76</td>\n",
              "      <td>0.0</td>\n",
              "      <td>0.0</td>\n",
              "      <td>2.95</td>\n",
              "      <td>0.0</td>\n",
              "      <td>NaN</td>\n",
              "      <td>1.0</td>\n",
              "      <td>17.71</td>\n",
              "      <td>NaN</td>\n",
              "      <td>NaN</td>\n",
              "      <td>NaN</td>\n",
              "    </tr>\n",
              "    <tr>\n",
              "      <th>65547</th>\n",
              "      <td>2</td>\n",
              "      <td>2023-06-30 23:03:00</td>\n",
              "      <td>2023-06-30 23:22:00</td>\n",
              "      <td>None</td>\n",
              "      <td>NaN</td>\n",
              "      <td>134</td>\n",
              "      <td>180</td>\n",
              "      <td>NaN</td>\n",
              "      <td>3.75</td>\n",
              "      <td>19.93</td>\n",
              "      <td>0.0</td>\n",
              "      <td>0.0</td>\n",
              "      <td>1.05</td>\n",
              "      <td>0.0</td>\n",
              "      <td>NaN</td>\n",
              "      <td>1.0</td>\n",
              "      <td>21.98</td>\n",
              "      <td>NaN</td>\n",
              "      <td>NaN</td>\n",
              "      <td>NaN</td>\n",
              "    </tr>\n",
              "    <tr>\n",
              "      <th>65548</th>\n",
              "      <td>2</td>\n",
              "      <td>2023-06-30 23:12:00</td>\n",
              "      <td>2023-06-30 23:32:00</td>\n",
              "      <td>None</td>\n",
              "      <td>NaN</td>\n",
              "      <td>33</td>\n",
              "      <td>157</td>\n",
              "      <td>NaN</td>\n",
              "      <td>5.29</td>\n",
              "      <td>27.20</td>\n",
              "      <td>0.0</td>\n",
              "      <td>0.0</td>\n",
              "      <td>5.64</td>\n",
              "      <td>0.0</td>\n",
              "      <td>NaN</td>\n",
              "      <td>1.0</td>\n",
              "      <td>33.84</td>\n",
              "      <td>NaN</td>\n",
              "      <td>NaN</td>\n",
              "      <td>NaN</td>\n",
              "    </tr>\n",
              "    <tr>\n",
              "      <th>65549</th>\n",
              "      <td>2</td>\n",
              "      <td>2023-06-30 23:36:00</td>\n",
              "      <td>2023-06-30 23:48:00</td>\n",
              "      <td>None</td>\n",
              "      <td>NaN</td>\n",
              "      <td>152</td>\n",
              "      <td>41</td>\n",
              "      <td>NaN</td>\n",
              "      <td>1.82</td>\n",
              "      <td>13.24</td>\n",
              "      <td>0.0</td>\n",
              "      <td>0.0</td>\n",
              "      <td>2.85</td>\n",
              "      <td>0.0</td>\n",
              "      <td>NaN</td>\n",
              "      <td>1.0</td>\n",
              "      <td>17.09</td>\n",
              "      <td>NaN</td>\n",
              "      <td>NaN</td>\n",
              "      <td>NaN</td>\n",
              "    </tr>\n",
              "  </tbody>\n",
              "</table>\n",
              "</div>\n",
              "    <div class=\"colab-df-buttons\">\n",
              "\n",
              "  <div class=\"colab-df-container\">\n",
              "    <button class=\"colab-df-convert\" onclick=\"convertToInteractive('df-234035df-8a30-4401-83af-d879f8a68ccf')\"\n",
              "            title=\"Convert this dataframe to an interactive table.\"\n",
              "            style=\"display:none;\">\n",
              "\n",
              "  <svg xmlns=\"http://www.w3.org/2000/svg\" height=\"24px\" viewBox=\"0 -960 960 960\">\n",
              "    <path d=\"M120-120v-720h720v720H120Zm60-500h600v-160H180v160Zm220 220h160v-160H400v160Zm0 220h160v-160H400v160ZM180-400h160v-160H180v160Zm440 0h160v-160H620v160ZM180-180h160v-160H180v160Zm440 0h160v-160H620v160Z\"/>\n",
              "  </svg>\n",
              "    </button>\n",
              "\n",
              "  <style>\n",
              "    .colab-df-container {\n",
              "      display:flex;\n",
              "      gap: 12px;\n",
              "    }\n",
              "\n",
              "    .colab-df-convert {\n",
              "      background-color: #E8F0FE;\n",
              "      border: none;\n",
              "      border-radius: 50%;\n",
              "      cursor: pointer;\n",
              "      display: none;\n",
              "      fill: #1967D2;\n",
              "      height: 32px;\n",
              "      padding: 0 0 0 0;\n",
              "      width: 32px;\n",
              "    }\n",
              "\n",
              "    .colab-df-convert:hover {\n",
              "      background-color: #E2EBFA;\n",
              "      box-shadow: 0px 1px 2px rgba(60, 64, 67, 0.3), 0px 1px 3px 1px rgba(60, 64, 67, 0.15);\n",
              "      fill: #174EA6;\n",
              "    }\n",
              "\n",
              "    .colab-df-buttons div {\n",
              "      margin-bottom: 4px;\n",
              "    }\n",
              "\n",
              "    [theme=dark] .colab-df-convert {\n",
              "      background-color: #3B4455;\n",
              "      fill: #D2E3FC;\n",
              "    }\n",
              "\n",
              "    [theme=dark] .colab-df-convert:hover {\n",
              "      background-color: #434B5C;\n",
              "      box-shadow: 0px 1px 3px 1px rgba(0, 0, 0, 0.15);\n",
              "      filter: drop-shadow(0px 1px 2px rgba(0, 0, 0, 0.3));\n",
              "      fill: #FFFFFF;\n",
              "    }\n",
              "  </style>\n",
              "\n",
              "    <script>\n",
              "      const buttonEl =\n",
              "        document.querySelector('#df-234035df-8a30-4401-83af-d879f8a68ccf button.colab-df-convert');\n",
              "      buttonEl.style.display =\n",
              "        google.colab.kernel.accessAllowed ? 'block' : 'none';\n",
              "\n",
              "      async function convertToInteractive(key) {\n",
              "        const element = document.querySelector('#df-234035df-8a30-4401-83af-d879f8a68ccf');\n",
              "        const dataTable =\n",
              "          await google.colab.kernel.invokeFunction('convertToInteractive',\n",
              "                                                    [key], {});\n",
              "        if (!dataTable) return;\n",
              "\n",
              "        const docLinkHtml = 'Like what you see? Visit the ' +\n",
              "          '<a target=\"_blank\" href=https://colab.research.google.com/notebooks/data_table.ipynb>data table notebook</a>'\n",
              "          + ' to learn more about interactive tables.';\n",
              "        element.innerHTML = '';\n",
              "        dataTable['output_type'] = 'display_data';\n",
              "        await google.colab.output.renderOutput(dataTable, element);\n",
              "        const docLink = document.createElement('div');\n",
              "        docLink.innerHTML = docLinkHtml;\n",
              "        element.appendChild(docLink);\n",
              "      }\n",
              "    </script>\n",
              "  </div>\n",
              "\n",
              "\n",
              "<div id=\"df-17ac3dec-c3d6-4f0f-8239-c9b377d49d01\">\n",
              "  <button class=\"colab-df-quickchart\" onclick=\"quickchart('df-17ac3dec-c3d6-4f0f-8239-c9b377d49d01')\"\n",
              "            title=\"Suggest charts\"\n",
              "            style=\"display:none;\">\n",
              "\n",
              "<svg xmlns=\"http://www.w3.org/2000/svg\" height=\"24px\"viewBox=\"0 0 24 24\"\n",
              "     width=\"24px\">\n",
              "    <g>\n",
              "        <path d=\"M19 3H5c-1.1 0-2 .9-2 2v14c0 1.1.9 2 2 2h14c1.1 0 2-.9 2-2V5c0-1.1-.9-2-2-2zM9 17H7v-7h2v7zm4 0h-2V7h2v10zm4 0h-2v-4h2v4z\"/>\n",
              "    </g>\n",
              "</svg>\n",
              "  </button>\n",
              "\n",
              "<style>\n",
              "  .colab-df-quickchart {\n",
              "      --bg-color: #E8F0FE;\n",
              "      --fill-color: #1967D2;\n",
              "      --hover-bg-color: #E2EBFA;\n",
              "      --hover-fill-color: #174EA6;\n",
              "      --disabled-fill-color: #AAA;\n",
              "      --disabled-bg-color: #DDD;\n",
              "  }\n",
              "\n",
              "  [theme=dark] .colab-df-quickchart {\n",
              "      --bg-color: #3B4455;\n",
              "      --fill-color: #D2E3FC;\n",
              "      --hover-bg-color: #434B5C;\n",
              "      --hover-fill-color: #FFFFFF;\n",
              "      --disabled-bg-color: #3B4455;\n",
              "      --disabled-fill-color: #666;\n",
              "  }\n",
              "\n",
              "  .colab-df-quickchart {\n",
              "    background-color: var(--bg-color);\n",
              "    border: none;\n",
              "    border-radius: 50%;\n",
              "    cursor: pointer;\n",
              "    display: none;\n",
              "    fill: var(--fill-color);\n",
              "    height: 32px;\n",
              "    padding: 0;\n",
              "    width: 32px;\n",
              "  }\n",
              "\n",
              "  .colab-df-quickchart:hover {\n",
              "    background-color: var(--hover-bg-color);\n",
              "    box-shadow: 0 1px 2px rgba(60, 64, 67, 0.3), 0 1px 3px 1px rgba(60, 64, 67, 0.15);\n",
              "    fill: var(--button-hover-fill-color);\n",
              "  }\n",
              "\n",
              "  .colab-df-quickchart-complete:disabled,\n",
              "  .colab-df-quickchart-complete:disabled:hover {\n",
              "    background-color: var(--disabled-bg-color);\n",
              "    fill: var(--disabled-fill-color);\n",
              "    box-shadow: none;\n",
              "  }\n",
              "\n",
              "  .colab-df-spinner {\n",
              "    border: 2px solid var(--fill-color);\n",
              "    border-color: transparent;\n",
              "    border-bottom-color: var(--fill-color);\n",
              "    animation:\n",
              "      spin 1s steps(1) infinite;\n",
              "  }\n",
              "\n",
              "  @keyframes spin {\n",
              "    0% {\n",
              "      border-color: transparent;\n",
              "      border-bottom-color: var(--fill-color);\n",
              "      border-left-color: var(--fill-color);\n",
              "    }\n",
              "    20% {\n",
              "      border-color: transparent;\n",
              "      border-left-color: var(--fill-color);\n",
              "      border-top-color: var(--fill-color);\n",
              "    }\n",
              "    30% {\n",
              "      border-color: transparent;\n",
              "      border-left-color: var(--fill-color);\n",
              "      border-top-color: var(--fill-color);\n",
              "      border-right-color: var(--fill-color);\n",
              "    }\n",
              "    40% {\n",
              "      border-color: transparent;\n",
              "      border-right-color: var(--fill-color);\n",
              "      border-top-color: var(--fill-color);\n",
              "    }\n",
              "    60% {\n",
              "      border-color: transparent;\n",
              "      border-right-color: var(--fill-color);\n",
              "    }\n",
              "    80% {\n",
              "      border-color: transparent;\n",
              "      border-right-color: var(--fill-color);\n",
              "      border-bottom-color: var(--fill-color);\n",
              "    }\n",
              "    90% {\n",
              "      border-color: transparent;\n",
              "      border-bottom-color: var(--fill-color);\n",
              "    }\n",
              "  }\n",
              "</style>\n",
              "\n",
              "  <script>\n",
              "    async function quickchart(key) {\n",
              "      const quickchartButtonEl =\n",
              "        document.querySelector('#' + key + ' button');\n",
              "      quickchartButtonEl.disabled = true;  // To prevent multiple clicks.\n",
              "      quickchartButtonEl.classList.add('colab-df-spinner');\n",
              "      try {\n",
              "        const charts = await google.colab.kernel.invokeFunction(\n",
              "            'suggestCharts', [key], {});\n",
              "      } catch (error) {\n",
              "        console.error('Error during call to suggestCharts:', error);\n",
              "      }\n",
              "      quickchartButtonEl.classList.remove('colab-df-spinner');\n",
              "      quickchartButtonEl.classList.add('colab-df-quickchart-complete');\n",
              "    }\n",
              "    (() => {\n",
              "      let quickchartButtonEl =\n",
              "        document.querySelector('#df-17ac3dec-c3d6-4f0f-8239-c9b377d49d01 button');\n",
              "      quickchartButtonEl.style.display =\n",
              "        google.colab.kernel.accessAllowed ? 'block' : 'none';\n",
              "    })();\n",
              "  </script>\n",
              "</div>\n",
              "\n",
              "    </div>\n",
              "  </div>\n"
            ],
            "application/vnd.google.colaboratory.intrinsic+json": {
              "type": "dataframe",
              "repr_error": "0"
            }
          },
          "metadata": {},
          "execution_count": 8
        }
      ]
    },
    {
      "cell_type": "code",
      "source": [
        "# Drop the 'ehail_fee' column if it exists"
      ],
      "metadata": {
        "id": "OARty_TNKrBR"
      },
      "execution_count": null,
      "outputs": []
    },
    {
      "cell_type": "code",
      "source": [
        "if 'ehail_fee' in Taxi.columns:\n",
        "    Taxi.drop(columns=['ehail_fee'], inplace=True)\n",
        "    print(\"Column 'ehail_fee' dropped successfully.\")\n",
        "else:\n",
        "    print(\"Column 'ehail_fee' not found in the dataset.\")\n"
      ],
      "metadata": {
        "colab": {
          "base_uri": "https://localhost:8080/"
        },
        "id": "0W-OxGfqJefn",
        "outputId": "01a6e8a7-d4a7-4654-9d4d-d8256c38dd51"
      },
      "execution_count": null,
      "outputs": [
        {
          "output_type": "stream",
          "name": "stdout",
          "text": [
            "Column 'ehail_fee' dropped successfully.\n"
          ]
        }
      ]
    },
    {
      "cell_type": "code",
      "source": [
        "print(\"\\nUpdated Dataset Information:\")\n",
        "Taxi.info()"
      ],
      "metadata": {
        "colab": {
          "base_uri": "https://localhost:8080/"
        },
        "id": "hYkF0IrpKJHZ",
        "outputId": "571b1b16-73a7-463f-b43a-1cb388fe9914"
      },
      "execution_count": null,
      "outputs": [
        {
          "output_type": "stream",
          "name": "stdout",
          "text": [
            "\n",
            "Updated Dataset Information:\n",
            "<class 'pandas.core.frame.DataFrame'>\n",
            "RangeIndex: 65550 entries, 0 to 65549\n",
            "Data columns (total 19 columns):\n",
            " #   Column                 Non-Null Count  Dtype         \n",
            "---  ------                 --------------  -----         \n",
            " 0   VendorID               65550 non-null  int32         \n",
            " 1   lpep_pickup_datetime   65550 non-null  datetime64[us]\n",
            " 2   lpep_dropoff_datetime  65550 non-null  datetime64[us]\n",
            " 3   store_and_fwd_flag     60359 non-null  object        \n",
            " 4   RatecodeID             60359 non-null  float64       \n",
            " 5   PULocationID           65550 non-null  int32         \n",
            " 6   DOLocationID           65550 non-null  int32         \n",
            " 7   passenger_count        60359 non-null  float64       \n",
            " 8   trip_distance          65550 non-null  float64       \n",
            " 9   fare_amount            65550 non-null  float64       \n",
            " 10  extra                  65550 non-null  float64       \n",
            " 11  mta_tax                65550 non-null  float64       \n",
            " 12  tip_amount             65550 non-null  float64       \n",
            " 13  tolls_amount           65550 non-null  float64       \n",
            " 14  improvement_surcharge  65550 non-null  float64       \n",
            " 15  total_amount           65550 non-null  float64       \n",
            " 16  payment_type           60359 non-null  float64       \n",
            " 17  trip_type              60359 non-null  float64       \n",
            " 18  congestion_surcharge   60359 non-null  float64       \n",
            "dtypes: datetime64[us](2), float64(13), int32(3), object(1)\n",
            "memory usage: 8.8+ MB\n"
          ]
        }
      ]
    },
    {
      "cell_type": "code",
      "source": [
        "# Convert pickup and dropoff columns to datetime (if not already in datetime format)\n",
        "Taxi['lpep_pickup_datetime'] = pd.to_datetime(Taxi['lpep_pickup_datetime'])\n",
        "Taxi['lpep_dropoff_datetime'] = pd.to_datetime(Taxi['lpep_dropoff_datetime'])\n",
        "Taxi['trip_duration'] = (Taxi['lpep_dropoff_datetime'] - Taxi['lpep_pickup_datetime']).dt.total_seconds() / 60"
      ],
      "metadata": {
        "id": "Wb4H9GeXKQAv"
      },
      "execution_count": null,
      "outputs": []
    },
    {
      "cell_type": "code",
      "source": [
        "# Calculate trip duration in minute\n",
        "print(\"Sample Data with Trip Duration :\")\n",
        "print(Taxi[['lpep_pickup_datetime','lpep_dropoff_datetime','trip_duration']].head())"
      ],
      "metadata": {
        "colab": {
          "base_uri": "https://localhost:8080/"
        },
        "id": "zlfrp1P2L1Yx",
        "outputId": "166ab9ab-22a7-4495-e06e-b16cdd05f11f"
      },
      "execution_count": null,
      "outputs": [
        {
          "output_type": "stream",
          "name": "stdout",
          "text": [
            "Sample Data with Trip Duration :\n",
            "  lpep_pickup_datetime lpep_dropoff_datetime  trip_duration\n",
            "0  2023-06-01 00:32:25   2023-06-01 00:39:06       6.683333\n",
            "1  2023-06-01 00:39:07   2023-06-01 00:51:59      12.866667\n",
            "2  2023-06-01 00:35:59   2023-06-01 00:57:06      21.116667\n",
            "3  2023-06-01 00:50:29   2023-06-01 01:00:32      10.050000\n",
            "4  2023-06-01 00:15:15   2023-06-01 00:52:40      37.416667\n"
          ]
        }
      ]
    },
    {
      "cell_type": "code",
      "source": [
        "# Check for negative durations (if any\n",
        "np.negative_durations = Taxi[Taxi['trip_duration'] < 0]\n",
        "print(\"Number of Trips with negative Durations :{len(negative_durations)}\")"
      ],
      "metadata": {
        "colab": {
          "base_uri": "https://localhost:8080/"
        },
        "id": "WpTu9URyMQd3",
        "outputId": "2ae5836b-c2f2-462d-d020-f71e710ba7b3"
      },
      "execution_count": null,
      "outputs": [
        {
          "output_type": "stream",
          "name": "stdout",
          "text": [
            "Number of Trips with negative Durations :{len(negative_durations)}\n"
          ]
        }
      ]
    },
    {
      "cell_type": "code",
      "source": [
        "# e)\tExtract hour as new variable “hourofday” from dropoff date variable and value_counts() of variable. Use pandas dt functions"
      ],
      "metadata": {
        "id": "cPZmpGrKMnYw"
      },
      "execution_count": null,
      "outputs": []
    },
    {
      "cell_type": "code",
      "source": [
        "Taxi['lpep_dropoff_datetime'] = pd.to_datetime(Taxi['lpep_dropoff_datetime'])\n",
        "Taxi['weekday'] = Taxi['lpep_dropoff_datetime'].dt.day_name()\n",
        "Taxi['lpep_dropoff_datetime'] = pd.to_datetime(Taxi['lpep_dropoff_datetime']) # Extract the hour of the day as a new variable\n",
        "Taxi['hourofday'] = Taxi['lpep_dropoff_datetime'].dt.hour  # Extracts hour (0-23)\n"
      ],
      "metadata": {
        "id": "bMWpzJT3NL-0"
      },
      "execution_count": null,
      "outputs": []
    },
    {
      "cell_type": "code",
      "source": [
        "week_order = [\"Monday\", \"Tuesday\", \"Wednesday\", \"Thursday\", \"Friday\", \"Saturday\", \"Sunday\"]\n",
        "Taxi['weekday'] = pd.Categorical(Taxi['weekday'], categories=week_order, ordered=True)\n"
      ],
      "metadata": {
        "id": "_jpur36DuV6W"
      },
      "execution_count": null,
      "outputs": []
    },
    {
      "cell_type": "code",
      "source": [
        "weekday_counts = Taxi['weekday'].value_counts().sort_index()\n",
        "print(\"Weekday Counts (Ordered)\", weekday_counts)"
      ],
      "metadata": {
        "colab": {
          "base_uri": "https://localhost:8080/"
        },
        "id": "MFH6V-cFw37q",
        "outputId": "d4416188-2020-410f-bb91-b5942ceabae6"
      },
      "execution_count": null,
      "outputs": [
        {
          "output_type": "stream",
          "name": "stdout",
          "text": [
            "Weekday Counts (Ordered) weekday\n",
            "Monday        8246\n",
            "Tuesday       9036\n",
            "Wednesday     9007\n",
            "Thursday     11811\n",
            "Friday       11802\n",
            "Saturday      8199\n",
            "Sunday        7449\n",
            "Name: count, dtype: int64\n"
          ]
        }
      ]
    },
    {
      "cell_type": "code",
      "source": [
        "hour_counts = Taxi['hourofday'].value_counts().sort_index()\n",
        "print(\"Hour of Day Counts (Ordered)\", hour_counts)"
      ],
      "metadata": {
        "colab": {
          "base_uri": "https://localhost:8080/"
        },
        "id": "ZppQoOe1x0z5",
        "outputId": "154f81cc-1980-428a-b5a4-d4d806a886ec"
      },
      "execution_count": null,
      "outputs": [
        {
          "output_type": "stream",
          "name": "stdout",
          "text": [
            "Hour of Day Counts (Ordered) hourofday\n",
            "0     1536\n",
            "1      942\n",
            "2      702\n",
            "3      501\n",
            "4      432\n",
            "5      425\n",
            "6      837\n",
            "7     2224\n",
            "8     2881\n",
            "9     3424\n",
            "10    3503\n",
            "11    3450\n",
            "12    3576\n",
            "13    3476\n",
            "14    3690\n",
            "15    4310\n",
            "16    4431\n",
            "17    4675\n",
            "18    5252\n",
            "19    4553\n",
            "20    3269\n",
            "21    2906\n",
            "22    2498\n",
            "23    2057\n",
            "Name: count, dtype: int64\n"
          ]
        }
      ]
    },
    {
      "cell_type": "code",
      "source": [
        "#  h)\tGroupby() of average total_amount & weekday\n",
        "avg_amount_per_weekday = Taxi.groupby(\"weekday\")['total_amount'].mean().reset_index() # Group by weekday and calculate average total_amount\n",
        "print(\"Average Total Amount by Weekday:\\n\", avg_amount_per_weekday)"
      ],
      "metadata": {
        "colab": {
          "base_uri": "https://localhost:8080/"
        },
        "id": "CHS6Tl2FujYR",
        "outputId": "7a57f0ec-2376-442b-8a95-e2149358a606"
      },
      "execution_count": null,
      "outputs": [
        {
          "output_type": "stream",
          "name": "stdout",
          "text": [
            "Average Total Amount by Weekday:\n",
            "      weekday  total_amount\n",
            "0     Monday     23.539988\n",
            "1    Tuesday     24.218163\n",
            "2  Wednesday     24.455773\n",
            "3   Thursday     24.800966\n",
            "4     Friday     24.996170\n",
            "5   Saturday     24.354775\n",
            "6     Sunday     25.125006\n"
          ]
        },
        {
          "output_type": "stream",
          "name": "stderr",
          "text": [
            "<ipython-input-20-74834d84b032>:2: FutureWarning: The default of observed=False is deprecated and will be changed to True in a future version of pandas. Pass observed=False to retain current behavior or observed=True to adopt the future default and silence this warning.\n",
            "  avg_amount_per_weekday = Taxi.groupby(\"weekday\")['total_amount'].mean().reset_index() # Group by weekday and calculate average total_amount\n"
          ]
        }
      ]
    },
    {
      "cell_type": "code",
      "source": [
        "avg_amount_per_payment = Taxi.groupby(\"payment_type\")['total_amount'].mean().reset_index() #Group by payment_type and calculate average total_amount\n",
        "avg_amount_per_weekday = avg_amount_per_weekday.sort_values(by=\"total_amount\", ascending=False)\n",
        "payment_mapping = {1: \"Credit Card\", 2: \"Cash\", 3: \"No Charge\", 4: \"Dispute\"}\n",
        "Taxi['payment_type'] = Taxi['payment_type'].map(payment_mapping)\n",
        "print(\"\\nAverage Total Amount by Payment Type:\\n\", avg_amount_per_payment)"
      ],
      "metadata": {
        "colab": {
          "base_uri": "https://localhost:8080/"
        },
        "id": "Y8G_GJFTvKAk",
        "outputId": "34a749d4-5dfa-41c3-9afc-779ed707f394"
      },
      "execution_count": null,
      "outputs": [
        {
          "output_type": "stream",
          "name": "stdout",
          "text": [
            "\n",
            "Average Total Amount by Payment Type:\n",
            "    payment_type  total_amount\n",
            "0           1.0     25.847464\n",
            "1           2.0     20.669402\n",
            "2           3.0      5.930182\n",
            "3           4.0      4.291600\n",
            "4           5.0      4.500000\n"
          ]
        }
      ]
    },
    {
      "cell_type": "code",
      "source": [
        "avg_amount_per_weekday.to_csv(\"avg_amount_per_weekday.csv\", index=False)\n",
        "avg_amount_per_payment.to_csv(\"avg_amount_per_payment.csv\", index=False)\n"
      ],
      "metadata": {
        "id": "Rew1_jR13jmM"
      },
      "execution_count": null,
      "outputs": []
    },
    {
      "cell_type": "code",
      "source": [
        "#f)\tMissing Values Imputation"
      ],
      "metadata": {
        "id": "F10UjpCKxKdp"
      },
      "execution_count": null,
      "outputs": []
    },
    {
      "cell_type": "code",
      "source": [
        "# Missing values imputation in Python involves replacing missing data using methods like mean, median, mode, or advanced techniques like KNN or regression.\n",
        "#Libraries like pandas (`fillna()`), scikit-learn (`SimpleImputer`), and fancyimpute (`KNNImputer`) help handle missing data.\n",
        "# Proper imputation prevents bias and improves machine learning model performance and data integrity."
      ],
      "metadata": {
        "id": "LFcUzufblnqD"
      },
      "execution_count": null,
      "outputs": []
    },
    {
      "cell_type": "code",
      "source": [
        "missing_values = Taxi.isnull().sum()\n",
        "print(\"Missing Values Before Imputation:\\n\", missing_values)"
      ],
      "metadata": {
        "colab": {
          "base_uri": "https://localhost:8080/"
        },
        "id": "Bd_YqpFayO08",
        "outputId": "1fa9241a-8d9f-4659-ffa9-f827219c7362"
      },
      "execution_count": null,
      "outputs": [
        {
          "output_type": "stream",
          "name": "stdout",
          "text": [
            "Missing Values Before Imputation:\n",
            " VendorID                    0\n",
            "lpep_pickup_datetime        0\n",
            "lpep_dropoff_datetime       0\n",
            "store_and_fwd_flag       5191\n",
            "RatecodeID               5191\n",
            "PULocationID                0\n",
            "DOLocationID                0\n",
            "passenger_count          5191\n",
            "trip_distance               0\n",
            "fare_amount                 0\n",
            "extra                       0\n",
            "mta_tax                     0\n",
            "tip_amount                  0\n",
            "tolls_amount                0\n",
            "improvement_surcharge       0\n",
            "total_amount                0\n",
            "payment_type             5192\n",
            "trip_type                5191\n",
            "congestion_surcharge     5191\n",
            "trip_duration               0\n",
            "weekday                     0\n",
            "hourofday                   0\n",
            "dtype: int64\n"
          ]
        }
      ]
    },
    {
      "cell_type": "code",
      "source": [
        "num_cols = Taxi.select_dtypes(include=['number']).columns\n",
        "cat_cols = Taxi.select_dtypes(include=['object']).columns\n",
        "Taxi[num_cols] = Taxi[num_cols].fillna(Taxi[num_cols].mean())"
      ],
      "metadata": {
        "id": "TkXaMmGdyioU"
      },
      "execution_count": null,
      "outputs": []
    },
    {
      "cell_type": "code",
      "source": [
        "for col in cat_cols:\n",
        "    Taxi[col] = Taxi[col].fillna(Taxi[col].mode()[0])\n"
      ],
      "metadata": {
        "id": "PSz7lzp-yuvu"
      },
      "execution_count": null,
      "outputs": []
    },
    {
      "cell_type": "code",
      "source": [
        "datetime_cols = Taxi.select_dtypes(include=['datetime64']).columns\n",
        "Taxi[datetime_cols] = Taxi[datetime_cols].fillna(method='ffill')"
      ],
      "metadata": {
        "colab": {
          "base_uri": "https://localhost:8080/"
        },
        "id": "Ud2uSEbby8Zc",
        "outputId": "ac37cd74-3c19-4aa7-bac5-d4d7a75d2aba"
      },
      "execution_count": null,
      "outputs": [
        {
          "output_type": "stream",
          "name": "stderr",
          "text": [
            "<ipython-input-28-6d73b96ab2cc>:2: FutureWarning: DataFrame.fillna with 'method' is deprecated and will raise in a future version. Use obj.ffill() or obj.bfill() instead.\n",
            "  Taxi[datetime_cols] = Taxi[datetime_cols].fillna(method='ffill')\n"
          ]
        }
      ]
    },
    {
      "cell_type": "code",
      "source": [
        "missing_values_after = Taxi.isnull().sum()\n",
        "print(\"Missing Values After Imputation:\\n\", missing_values_after)"
      ],
      "metadata": {
        "colab": {
          "base_uri": "https://localhost:8080/"
        },
        "id": "jsvCk88dzEsb",
        "outputId": "e028f746-4dc7-4e77-f7d7-304353364165"
      },
      "execution_count": null,
      "outputs": [
        {
          "output_type": "stream",
          "name": "stdout",
          "text": [
            "Missing Values After Imputation:\n",
            " VendorID                 0\n",
            "lpep_pickup_datetime     0\n",
            "lpep_dropoff_datetime    0\n",
            "store_and_fwd_flag       0\n",
            "RatecodeID               0\n",
            "PULocationID             0\n",
            "DOLocationID             0\n",
            "passenger_count          0\n",
            "trip_distance            0\n",
            "fare_amount              0\n",
            "extra                    0\n",
            "mta_tax                  0\n",
            "tip_amount               0\n",
            "tolls_amount             0\n",
            "improvement_surcharge    0\n",
            "total_amount             0\n",
            "payment_type             0\n",
            "trip_type                0\n",
            "congestion_surcharge     0\n",
            "trip_duration            0\n",
            "weekday                  0\n",
            "hourofday                0\n",
            "dtype: int64\n"
          ]
        }
      ]
    },
    {
      "cell_type": "code",
      "source": [
        "Taxi.to_parquet(\"modified_green_tripdata_2023-06.parquet\",index=False)\n",
        "Taxi.to_csv(\"modified_green_tripdata_2023-06.csv\",index=False)"
      ],
      "metadata": {
        "id": "3ji9XggbzO3A"
      },
      "execution_count": null,
      "outputs": []
    },
    {
      "cell_type": "code",
      "source": [
        "# g)\tPie diagram of payment_type"
      ],
      "metadata": {
        "id": "vzC5etZDzQFh"
      },
      "execution_count": null,
      "outputs": []
    },
    {
      "cell_type": "code",
      "source": [
        "# A pie chart is a circular statistical graphic divided into slices to illustrate numerical proportions. Each slice represents a category’s contribution to the whole, with the entire chart equaling 100%.\n",
        "# It is useful for comparing relative sizes but can become cluttered with many categories. Ideal for visualizing percentages and distributions."
      ],
      "metadata": {
        "id": "a6oeOD4mk4YI"
      },
      "execution_count": null,
      "outputs": []
    },
    {
      "cell_type": "code",
      "source": [
        "payment_counts = Taxi['payment_type'].value_counts()\n",
        "colors = ['#ff9999','#66b3ff','#99ff99','#ffcc99','#c2c2f0'] # Define custom colors for better visualization"
      ],
      "metadata": {
        "id": "g_xfYE0pzuLS"
      },
      "execution_count": null,
      "outputs": []
    },
    {
      "cell_type": "code",
      "source": [
        "plt.figure(figsize=(8, 8))\n",
        "plt.pie(payment_counts, labels=payment_counts.index, autopct='%1.1f%%',\n",
        "        startangle=180, colors=colors, wedgeprops={'edgecolor': 'black'})\n",
        "plt.title(\"Distribution of Payment Types\", fontsize=14, fontweight='bold')\n",
        "plt.show()\n"
      ],
      "metadata": {
        "colab": {
          "base_uri": "https://localhost:8080/",
          "height": 676
        },
        "id": "P4MGJtSazz3A",
        "outputId": "a90376b9-613b-43f3-a6c6-e907549c412d"
      },
      "execution_count": null,
      "outputs": [
        {
          "output_type": "display_data",
          "data": {
            "text/plain": [
              "<Figure size 800x800 with 1 Axes>"
            ],
            "image/png": "[encoded data removed]"
          },
          "metadata": {}
        }
      ]
    },
    {
      "cell_type": "code",
      "source": [
        "# This pie chart represents the distribution of payment types.\n",
        "#  \"Credit Card\" dominates with 69.1%, followed by \"Cash\" at 30.1%. \"No Charge\" and \"Dispute\" account for very small percentages.\n",
        "# The chart effectively visualizes payment preferences, highlighting that most transactions occur via credit cards compared to other payment methods."
      ],
      "metadata": {
        "id": "ZYyq_vxXpTbC"
      },
      "execution_count": null,
      "outputs": []
    },
    {
      "cell_type": "code",
      "source": [
        "# Optional Code\n",
        "explode = [0.1 if label == 'Credit Card' else 0 for label in payment_counts.index]\n",
        "plt.pie(payment_counts, labels=payment_counts.index, autopct='%1.1f%%', explode=explode)\n",
        "plt.title(\"Explode a slice for emphasis -: 'Credit Card' payments\", fontsize=14, fontweight='bold')\n",
        "plt.show()\n"
      ],
      "metadata": {
        "colab": {
          "base_uri": "https://localhost:8080/",
          "height": 429
        },
        "id": "c3ryj7--z8bQ",
        "outputId": "7eb958d8-9d48-4169-c7e6-15fdc1a98738"
      },
      "execution_count": null,
      "outputs": [
        {
          "output_type": "display_data",
          "data": {
            "text/plain": [
              "<Figure size 640x480 with 1 Axes>"
            ],
            "image/png": "[encoded data removed]"
          },
          "metadata": {}
        }
      ]
    },
    {
      "cell_type": "code",
      "source": [
        "# This pie chart highlights \"Credit Card\" payments by exploding its slice.\n",
        "# Credit cards dominate with 69.1%, followed by \"Cash\" at 30.1%. \"No Charge\" and \"Dispute\" contribute minimally.\n",
        "# The emphasis on credit card transactions suggests their primary use in payments, making it an essential insight into customer payment preferences."
      ],
      "metadata": {
        "id": "MQNXQ796pkNR"
      },
      "execution_count": null,
      "outputs": []
    },
    {
      "cell_type": "code",
      "source": [
        "# j)\tTest null average total_amount of different trip_type is identical\n",
        "# k)\tTest null average total_amount of different weekday is identical\n"
      ],
      "metadata": {
        "id": "s4RjKhW30nNK"
      },
      "execution_count": null,
      "outputs": []
    },
    {
      "cell_type": "code",
      "source": [
        "Taxi = Taxi.dropna(subset=['trip_type','total_amount','payment_type'])\n",
        "trip_type_groups = [group['total_amount'] for name, group in Taxi.groupby('trip_type')]\n"
      ],
      "metadata": {
        "id": "i8h-VG241af3"
      },
      "execution_count": null,
      "outputs": []
    },
    {
      "cell_type": "code",
      "source": [
        "if len(Taxi) < 1000:    # Check normality using Shapiro-Wilk Test (only for small samples <5000)\n",
        "    for name, group in Taxi.groupby('trip_type'):\n",
        "        stat, p = stats.shapiro(group['total_amount'])\n",
        "        print(f'Shapiro-Wilk test for trip_type {name}: p={p}')\n",
        "\n",
        "\n"
      ],
      "metadata": {
        "id": "4icKy9GBoUwc"
      },
      "execution_count": null,
      "outputs": []
    },
    {
      "cell_type": "code",
      "source": [
        "# ANOVA-------> (Analysis of Variance) is a statistical method used to compare means across multiple groups to determine if significant differences exist.\n",
        "# It analyzes variance within and between groups.\n",
        "# Common types include one-way and two-way ANOVA. Used in hypothesis testing,\n",
        "# ANOVA assumes normality and equal variances among groups for accuracy."
      ],
      "metadata": {
        "id": "oVv1YmVrl_fR"
      },
      "execution_count": null,
      "outputs": []
    },
    {
      "cell_type": "code",
      "source": [
        "anova_trip = stats.f_oneway(*trip_type_groups)\n",
        "kruskal_trip = stats.kruskal(*trip_type_groups)\n",
        "print(f'Kruskal-Wallis test result for trip_type: p-value={kruskal_trip.pvalue}')\n",
        "print(f'ANOVA test result for trip_type: p-value={anova_trip.pvalue}')"
      ],
      "metadata": {
        "colab": {
          "base_uri": "https://localhost:8080/"
        },
        "id": "w4nEmmwKoivZ",
        "outputId": "3416727f-ea97-4f84-ff36-cad52a7754ef"
      },
      "execution_count": null,
      "outputs": [
        {
          "output_type": "stream",
          "name": "stdout",
          "text": [
            "Kruskal-Wallis test result for trip_type: p-value=0.0\n",
            "ANOVA test result for trip_type: p-value=0.0\n"
          ]
        }
      ]
    },
    {
      "cell_type": "code",
      "source": [
        "Taxi['weekday'] = Taxi['lpep_pickup_datetime'].dt.day_name()\n",
        "weekday_groups = [group['total_amount'] for name, group in Taxi.groupby('weekday')]\n"
      ],
      "metadata": {
        "id": "-lLPms5Domxs"
      },
      "execution_count": null,
      "outputs": []
    },
    {
      "cell_type": "code",
      "source": [
        "anova_weekday = stats.f_oneway(*weekday_groups)\n",
        "kruskal_weekday = stats.kruskal(*weekday_groups)\n",
        "print(f'Kruskal-Wallis test result for weekday: p-value={kruskal_weekday.pvalue}')\n",
        "print(f'ANOVA test result for weekday: p-value={anova_weekday.pvalue}')\n"
      ],
      "metadata": {
        "colab": {
          "base_uri": "https://localhost:8080/"
        },
        "id": "tOsz8-X1o4LM",
        "outputId": "581f2585-9684-4b8b-d764-8dcb37b9588b"
      },
      "execution_count": null,
      "outputs": [
        {
          "output_type": "stream",
          "name": "stdout",
          "text": [
            "Kruskal-Wallis test result for weekday: p-value=0.00018944861365211338\n",
            "ANOVA test result for weekday: p-value=0.00017072292720633173\n"
          ]
        }
      ]
    },
    {
      "cell_type": "code",
      "source": [
        "contingency_table = pd.crosstab(Taxi['trip_type'], Taxi['payment_type'])  # Test if there is no association between trip_type and payment_type\n",
        "chi2, p, dof, expected = stats.chi2_contingency(contingency_table)\n",
        "numeric_vars = ['trip_distance', 'fare_amount', 'extra', 'mta_tax', 'tip_amount', 'tolls_amount', 'improvement_surcharge', 'congestion_surcharge', 'trip_duration', 'passenger_count']\n",
        "print(Taxi[numeric_vars].describe())   # Summary statistics for numeric variables\n",
        "print(f'Chi-Square test result for trip_type and payment_type: p-value={p}')"
      ],
      "metadata": {
        "colab": {
          "base_uri": "https://localhost:8080/"
        },
        "id": "4UCptdE2qdwT",
        "outputId": "9cde846c-c5a6-418d-ad14-29d4c37bdc15"
      },
      "execution_count": null,
      "outputs": [
        {
          "output_type": "stream",
          "name": "stdout",
          "text": [
            "       trip_distance   fare_amount         extra       mta_tax    tip_amount  \\\n",
            "count   65550.000000  65550.000000  65550.000000  65550.000000  65550.000000   \n",
            "mean       22.430450     18.892448      0.882613      0.561037      2.415067   \n",
            "std      1114.401748     22.605564      1.327904      0.381443      3.308543   \n",
            "min         0.000000   -240.000000     -2.500000     -0.500000     -0.900000   \n",
            "25%         1.180000     10.000000      0.000000      0.500000      0.000000   \n",
            "50%         1.980000     14.200000      0.000000      0.500000      1.940000   \n",
            "75%         3.600000     21.980000      1.000000      0.500000      3.690000   \n",
            "max    179375.160000   4003.000000     10.000000      1.500000     96.300000   \n",
            "\n",
            "       tolls_amount  improvement_surcharge  congestion_surcharge  \\\n",
            "count  65550.000000           65550.000000          65550.000000   \n",
            "mean       0.253476               0.985623              0.746947   \n",
            "std        1.355565               0.132579              1.173686   \n",
            "min        0.000000              -1.000000             -2.750000   \n",
            "25%        0.000000               1.000000              0.000000   \n",
            "50%        0.000000               1.000000              0.000000   \n",
            "75%        0.000000               1.000000              2.500000   \n",
            "max       29.500000               1.000000              2.750000   \n",
            "\n",
            "       trip_duration  passenger_count  \n",
            "count   65550.000000     65550.000000  \n",
            "mean       19.913741         1.283007  \n",
            "std        76.840921         0.868365  \n",
            "min         0.000000         0.000000  \n",
            "25%         7.716667         1.000000  \n",
            "50%        12.283333         1.000000  \n",
            "75%        19.383333         1.000000  \n",
            "max      1439.400000         9.000000  \n",
            "Chi-Square test result for trip_type and payment_type: p-value=0.0\n"
          ]
        }
      ]
    },
    {
      "cell_type": "code",
      "source": [
        "object_vars = ['store_and_fwd_flag', 'RatecodeID', 'payment_type', 'trip_type', 'weekday', 'hourofday']\n",
        "print(f'Object variables: {object_vars}')   #  Object variables\n"
      ],
      "metadata": {
        "colab": {
          "base_uri": "https://localhost:8080/"
        },
        "id": "qfUtlOKdr3vg",
        "outputId": "aa670bf8-c9b5-4794-9c42-2280994bd2fa"
      },
      "execution_count": null,
      "outputs": [
        {
          "output_type": "stream",
          "name": "stdout",
          "text": [
            "Object variables: ['store_and_fwd_flag', 'RatecodeID', 'payment_type', 'trip_type', 'weekday', 'hourofday']\n"
          ]
        }
      ]
    },
    {
      "cell_type": "code",
      "source": [
        "corr_matrix = Taxi[numeric_vars].corr()  #  Correlation analysis of numeric columns\n",
        "plt.figure(figsize=(12,8))\n",
        "sns.heatmap(corr_matrix, annot=True, cmap='coolwarm', fmt='.2f')\n",
        "plt.title('Correlation Matrix of Numeric Variables')\n",
        "plt.show()\n"
      ],
      "metadata": {
        "id": "OWHBBsiHs7EU",
        "colab": {
          "base_uri": "https://localhost:8080/",
          "height": 854
        },
        "outputId": "67df48ca-ce67-4931-8493-a11429cb56b4"
      },
      "execution_count": null,
      "outputs": [
        {
          "output_type": "display_data",
          "data": {
            "text/plain": [
              "<Figure size 1200x800 with 2 Axes>"
            ],
            "image/png": "[encoded data removed]"
          },
          "metadata": {}
        }
      ]
    },
    {
      "cell_type": "code",
      "source": [
        "# A correlation matrix visually represents relationships between numeric variables.\n",
        "# In this heatmap, red indicates strong positive correlations, blue shows negative or weak ones.\n",
        "# \"Fare amount\" and \"Tip amount\" have a moderate correlation (0.25), while \"Trip distance\" and \"Trip duration\" show no strong relationship.\n",
        "# It's useful for feature selection and analysis."
      ],
      "metadata": {
        "id": "098_NvHSr806"
      },
      "execution_count": null,
      "outputs": []
    },
    {
      "cell_type": "code",
      "source": [
        "# A histogram is a graphical representation of data distribution using bars.\n",
        "# Each bar represents the frequency of data within a specific range (bin).\n",
        "# Unlike a bar chart, it displays continuous data, showing patterns like skewness and peaks.\n",
        "#Histograms are useful in statistics for analyzing trends, variability, and data dispersion."
      ],
      "metadata": {
        "id": "B1n_-Md4lLDp"
      },
      "execution_count": null,
      "outputs": []
    },
    {
      "cell_type": "code",
      "source": [
        "plt.figure(figsize=(12,5))\n",
        "#sns.boxplot(x='trip_type', y='total_amount', data=Taxi)\n",
        "sns.boxplot(x='trip_type', y='total_amount', data=Taxi)\n",
        "plt.title('Boxplot of Total Amount by Trip Type')\n",
        "plt.show()\n",
        "plt.figure(figsize=(12,5))\n",
        "sns.boxplot(x='weekday', y='total_amount', data=Taxi, order=['Monday', 'Tuesday', 'Wednesday', 'Thursday', 'Friday', 'Saturday', 'Sunday'])\n",
        "plt.title('Boxplot of Total Amount by Weekday')\n",
        "plt.show()\n",
        "\n",
        "plt.figure(figsize=(12,5))\n",
        "sns.histplot(Taxi['total_amount'], bins=50, kde=True)\n",
        "plt.title('Histogram of Total Amount')\n",
        "plt.xlabel('Total Amount')\n",
        "plt.show()\n",
        "\n",
        "plt.figure(figsize=(12,5))\n",
        "sns.boxplot(x=Taxi['total_amount'])\n",
        "plt.title('Boxplot of Total Amount')\n",
        "plt.show()\n",
        "\n",
        "plt.figure(figsize=(12,5))\n",
        "sns.kdeplot(Taxi['total_amount'], shade=True)\n",
        "plt.title('Density Curve of Total Amount')\n",
        "plt.xlabel('Total Amount')\n",
        "plt.show()"
      ],
      "metadata": {
        "colab": {
          "base_uri": "https://localhost:8080/",
          "height": 1000
        },
        "id": "Abl4zsLmpApL",
        "outputId": "e5868e96-5c2d-4683-899f-025ac75a317d"
      },
      "execution_count": null,
      "outputs": [
        {
          "output_type": "display_data",
          "data": {
            "text/plain": [
              "<Figure size 1200x500 with 1 Axes>"
            ],
            "image/png": "[encoded data removed]"
          },
          "metadata": {}
        },
        {
          "output_type": "display_data",
          "data": {
            "text/plain": [
              "<Figure size 1200x500 with 1 Axes>"
            ],
            "image/png": "[encoded data removed]"
          },
          "metadata": {}
        },
        {
          "output_type": "display_data",
          "data": {
            "text/plain": [
              "<Figure size 1200x500 with 1 Axes>"
            ],
            "image/png": "[encoded data removed]"
          },
          "metadata": {}
        },
        {
          "output_type": "display_data",
          "data": {
            "text/plain": [
              "<Figure size 1200x500 with 1 Axes>"
            ],
            "image/png": "[encoded data removed]"
          },
          "metadata": {}
        },
        {
          "output_type": "stream",
          "name": "stderr",
          "text": [
            "<ipython-input-50-9b4f700c90f4>:23: FutureWarning: \n",
            "\n",
            "`shade` is now deprecated in favor of `fill`; setting `fill=True`.\n",
            "This will become an error in seaborn v0.14.0; please update your code.\n",
            "\n",
            "  sns.kdeplot(Taxi['total_amount'], shade=True)\n"
          ]
        },
        {
          "output_type": "display_data",
          "data": {
            "text/plain": [
              "<Figure size 1200x500 with 1 Axes>"
            ],
            "image/png": "[encoded data removed]"
          },
          "metadata": {}
        }
      ]
    },
    {
      "cell_type": "code",
      "source": [
        "# Accessing the one-hot encoded column for 'trip_type' which is likely named 'trip_type_2' (as 'drop_first=True' was used in get_dummies)\n",
        "plt.figure(figsize=(12,5))\n",
        "sns.boxplot(x='trip_type', y='total_amount', data=Taxi)\n",
        "plt.title('Boxplot of Total Amount by Trip Type')\n",
        "plt.show()"
      ],
      "metadata": {
        "colab": {
          "base_uri": "https://localhost:8080/",
          "height": 487
        },
        "id": "baTgnQliusC4",
        "outputId": "2c2e55df-b21e-4cf7-f78a-f7671e558eeb"
      },
      "execution_count": null,
      "outputs": [
        {
          "output_type": "display_data",
          "data": {
            "text/plain": [
              "<Figure size 1200x500 with 1 Axes>"
            ],
            "image/png": "[encoded data removed]"
          },
          "metadata": {}
        }
      ]
    },
    {
      "cell_type": "code",
      "source": [
        "object_vars = ['store_and_fwd_flag', 'RatecodeID', 'payment_type', 'trip_type', 'weekday', 'hourofday'] # Changed 'hour_of_day' to 'hourofday'\n",
        "print(f'Object variables: {object_vars}')\n",
        "Taxi = pd.get_dummies(Taxi, columns=object_vars, drop_first=True)  #  Dummy encode object columns\n",
        "print(f'Dataset after dummy encoding: {Taxi.shape}')"
      ],
      "metadata": {
        "colab": {
          "base_uri": "https://localhost:8080/"
        },
        "id": "-B4GIZzNu_6C",
        "outputId": "4c86acd3-07cf-4df9-afb3-6d911575140f"
      },
      "execution_count": null,
      "outputs": [
        {
          "output_type": "stream",
          "name": "stdout",
          "text": [
            "Object variables: ['store_and_fwd_flag', 'RatecodeID', 'payment_type', 'trip_type', 'weekday', 'hourofday']\n",
            "Dataset after dummy encoding: (65550, 57)\n"
          ]
        }
      ]
    },
    {
      "cell_type": "code",
      "source": [
        "# r)\tBuild the following Regression Models:\n",
        "#Multiple Linear Regression\n",
        "#Decision Tree\n",
        "#Random Forest with 100 trees\n",
        "#Gradient Boosting with 100 trees\n"
      ],
      "metadata": {
        "id": "-r8TA8TqvM8t"
      },
      "execution_count": null,
      "outputs": []
    },
    {
      "cell_type": "code",
      "source": [
        "Taxi.dropna(inplace=True)\n",
        "Taxi.drop_duplicates(inplace=True)"
      ],
      "metadata": {
        "id": "5_mfRkC7yQ9-"
      },
      "execution_count": null,
      "outputs": []
    },
    {
      "cell_type": "code",
      "source": [
        "label_encoders = {}\n",
        "for column in Taxi.select_dtypes(include=['object']).columns:\n",
        "    le = LabelEncoder()\n",
        "    Taxi[column] = le.fit_transform(Taxi[column])\n",
        "    label_encoders[column] = le"
      ],
      "metadata": {
        "id": "jzIuPhDgygs4"
      },
      "execution_count": null,
      "outputs": []
    },
    {
      "cell_type": "code",
      "source": [
        "target_column = \"total_amount\"  # Change if needed\n",
        "X = Taxi.drop(columns=[target_column])  # Feature set\n",
        "y = Taxi[target_column]"
      ],
      "metadata": {
        "id": "HY1iwfB5zYlY"
      },
      "execution_count": null,
      "outputs": []
    },
    {
      "cell_type": "code",
      "source": [
        "numeric_features = Taxi.select_dtypes(include=['number']).columns\n",
        "X = Taxi[numeric_features].drop(columns=['total_amount'])  # Exclude target variable\n",
        "y = Taxi['total_amount']\n"
      ],
      "metadata": {
        "id": "Mzfw5jhNMW0l"
      },
      "execution_count": null,
      "outputs": []
    },
    {
      "cell_type": "code",
      "source": [
        "X_train, X_test, y_train, y_test = train_test_split(X, y, test_size=0.2, random_state=42)\n",
        "scaler = StandardScaler()\n",
        "X_train_scaled = scaler.fit_transform(X_train)\n",
        "X_test_scaled = scaler.transform(X_test)"
      ],
      "metadata": {
        "id": "BTTFTdcQKveG"
      },
      "execution_count": null,
      "outputs": []
    },
    {
      "cell_type": "code",
      "source": [
        "def evaluate_model(y_true, y_pred, model_name):\n",
        "    mse = mean_squared_error(y_true, y_pred)\n",
        "    rmse = np.sqrt(mse)\n",
        "    r2 = r2_score(y_true, y_pred)\n",
        "    print(f\"\\n{model_name} Performance:\")\n",
        "    print(f\" - MSE: {mse:.2f}\")\n",
        "    print(f\" - RMSE: {rmse:.2f}\")\n",
        "    print(f\" - R² Score: {r2:.2f}\")"
      ],
      "metadata": {
        "id": "tA9o9QZpL2bf"
      },
      "execution_count": null,
      "outputs": []
    },
    {
      "cell_type": "code",
      "source": [
        "# <-------------- Linear Regression -----------------> is a statistical method used to model relationships between a dependent variable and one or more independent variables.\n",
        "# It predicts outcomes by fitting a linear equation to data.\n",
        "# Common types include simple and multiple linear regression.\n",
        "# It’s widely used in forecasting, trend analysis, and machine learning applications."
      ],
      "metadata": {
        "id": "IXJNGQqfnGZ7"
      },
      "execution_count": null,
      "outputs": []
    },
    {
      "cell_type": "code",
      "source": [
        "lr = LinearRegression()\n",
        "lr.fit(X_train_scaled, y_train)\n",
        "y_pred_lr = lr.predict(X_test_scaled)\n",
        "evaluate_model(y_test, y_pred_lr, \"Multiple Linear Regression\")\n"
      ],
      "metadata": {
        "colab": {
          "base_uri": "https://localhost:8080/"
        },
        "id": "6k_74qImMenc",
        "outputId": "cc621092-135f-47c3-e8ed-9c752e2c146d"
      },
      "execution_count": null,
      "outputs": [
        {
          "output_type": "stream",
          "name": "stdout",
          "text": [
            "\n",
            "Multiple Linear Regression Performance:\n",
            " - MSE: 0.26\n",
            " - RMSE: 0.51\n",
            " - R² Score: 1.00\n"
          ]
        }
      ]
    },
    {
      "cell_type": "code",
      "source": [
        "# A <---------Decision Tree -----------> is a machine learning algorithm used for classification and regression tasks.\n",
        "# It splits data into branches based on feature conditions, forming a tree-like structure.\n",
        "# Key concepts include nodes, branches, and leaves.\n",
        "# Decision trees are easy to interpret but prone to overfitting without pruning or regularization techniques."
      ],
      "metadata": {
        "id": "zJ2DS547nTpz"
      },
      "execution_count": null,
      "outputs": []
    },
    {
      "cell_type": "code",
      "source": [
        "dt = DecisionTreeRegressor(random_state=42)\n",
        "dt.fit(X_train, y_train)\n",
        "y_pred_dt = dt.predict(X_test)\n",
        "evaluate_model(y_test, y_pred_dt, \"Decision Tree Regression\")\n"
      ],
      "metadata": {
        "colab": {
          "base_uri": "https://localhost:8080/"
        },
        "id": "iNOJTYW1MiXh",
        "outputId": "2839a031-de39-46ca-b97c-50a526d1074c"
      },
      "execution_count": null,
      "outputs": [
        {
          "output_type": "stream",
          "name": "stdout",
          "text": [
            "\n",
            "Decision Tree Regression Performance:\n",
            " - MSE: 1.01\n",
            " - RMSE: 1.01\n",
            " - R² Score: 1.00\n"
          ]
        }
      ]
    },
    {
      "cell_type": "code",
      "source": [
        "# <--------- Random Forest------------> is an ensemble learning algorithm that combines multiple decision trees to improve accuracy and reduce overfitting.\n",
        "# It randomly selects data samples and features for each tree, averaging results for regression or using majority voting for classification.\n",
        "# It’s robust, handles missing data well, and is widely used in machine learning."
      ],
      "metadata": {
        "id": "3DUuVGpTneyx"
      },
      "execution_count": null,
      "outputs": []
    },
    {
      "cell_type": "code",
      "source": [
        "rf = RandomForestRegressor(n_estimators=100, random_state=42)\n",
        "rf.fit(X_train, y_train)\n",
        "y_pred_rf = rf.predict(X_test)\n",
        "evaluate_model(y_test, y_pred_rf, \"Random Forest Regression\")"
      ],
      "metadata": {
        "colab": {
          "base_uri": "https://localhost:8080/"
        },
        "id": "WZOPHq9RMlGm",
        "outputId": "6e7260a6-d1bf-4e4b-c932-651175ac6971"
      },
      "execution_count": null,
      "outputs": [
        {
          "output_type": "stream",
          "name": "stdout",
          "text": [
            "\n",
            "Random Forest Regression Performance:\n",
            " - MSE: 0.70\n",
            " - RMSE: 0.84\n",
            " - R² Score: 1.00\n"
          ]
        }
      ]
    },
    {
      "cell_type": "code",
      "source": [
        "gb = GradientBoostingRegressor(n_estimators=100, random_state=42)\n",
        "gb.fit(X_train, y_train)\n",
        "y_pred_gb = gb.predict(X_test)\n",
        "evaluate_model(y_test, y_pred_gb, \"Gradient Boosting Regression\")"
      ],
      "metadata": {
        "colab": {
          "base_uri": "https://localhost:8080/"
        },
        "id": "1dauPATIMo6O",
        "outputId": "bd507a87-5509-461e-cb52-e2aafe23d0ab"
      },
      "execution_count": null,
      "outputs": [
        {
          "output_type": "stream",
          "name": "stdout",
          "text": [
            "\n",
            "Gradient Boosting Regression Performance:\n",
            " - MSE: 0.63\n",
            " - RMSE: 0.79\n",
            " - R² Score: 1.00\n"
          ]
        }
      ]
    },
    {
      "cell_type": "code",
      "source": [
        "# <--------- Gradient Boosting --------> is a powerful machine learning algorithm that builds models in stages, improving each step by correcting previous errors.\n",
        "# It combines weak decision trees to create a strong predictor.\n",
        "# Used for classification and regression, it’s effective but can be slow. Popular versions include XGBoost, LightGBM, and CatBoost."
      ],
      "metadata": {
        "id": "k4_bnV7ln222"
      },
      "execution_count": null,
      "outputs": []
    },
    {
      "cell_type": "code",
      "source": [
        "# Bonus task is convert Multiple Linear Regression model into streamlit app."
      ],
      "metadata": {
        "id": "9Aw7WJcSn1yX"
      },
      "execution_count": null,
      "outputs": []
    },
    {
      "cell_type": "code",
      "source": [
        "pip install streamlit"
      ],
      "metadata": {
        "colab": {
          "base_uri": "https://localhost:8080/"
        },
        "id": "gvtT9ddhMsis",
        "outputId": "6a125372-96e2-4e5e-abf8-e1242ccf5eb1"
      },
      "execution_count": null,
      "outputs": [
        {
          "output_type": "stream",
          "name": "stdout",
          "text": [
            "Collecting streamlit\n",
            "  Downloading streamlit-1.42.2-py2.py3-none-any.whl.metadata (8.9 kB)\n",
            "Requirement already satisfied: altair<6,>=4.0 in /usr/local/lib/python3.11/dist-packages (from streamlit) (5.5.0)\n",
            "Requirement already satisfied: blinker<2,>=1.0.0 in /usr/local/lib/python3.11/dist-packages (from streamlit) (1.9.0)\n",
            "Requirement already satisfied: cachetools<6,>=4.0 in /usr/local/lib/python3.11/dist-packages (from streamlit) (5.5.2)\n",
            "Requirement already satisfied: click<9,>=7.0 in /usr/local/lib/python3.11/dist-packages (from streamlit) (8.1.8)\n",
            "Requirement already satisfied: numpy<3,>=1.23 in /usr/local/lib/python3.11/dist-packages (from streamlit) (1.26.4)\n",
            "Requirement already satisfied: packaging<25,>=20 in /usr/local/lib/python3.11/dist-packages (from streamlit) (24.2)\n",
            "Requirement already satisfied: pandas<3,>=1.4.0 in /usr/local/lib/python3.11/dist-packages (from streamlit) (2.2.2)\n",
            "Requirement already satisfied: pillow<12,>=7.1.0 in /usr/local/lib/python3.11/dist-packages (from streamlit) (11.1.0)\n",
            "Requirement already satisfied: protobuf<6,>=3.20 in /usr/local/lib/python3.11/dist-packages (from streamlit) (4.25.6)\n",
            "Requirement already satisfied: pyarrow>=7.0 in /usr/local/lib/python3.11/dist-packages (from streamlit) (18.1.0)\n",
            "Requirement already satisfied: requests<3,>=2.27 in /usr/local/lib/python3.11/dist-packages (from streamlit) (2.32.3)\n",
            "Requirement already satisfied: rich<14,>=10.14.0 in /usr/local/lib/python3.11/dist-packages (from streamlit) (13.9.4)\n",
            "Requirement already satisfied: tenacity<10,>=8.1.0 in /usr/local/lib/python3.11/dist-packages (from streamlit) (9.0.0)\n",
            "Requirement already satisfied: toml<2,>=0.10.1 in /usr/local/lib/python3.11/dist-packages (from streamlit) (0.10.2)\n",
            "Requirement already satisfied: typing-extensions<5,>=4.4.0 in /usr/local/lib/python3.11/dist-packages (from streamlit) (4.12.2)\n",
            "Collecting watchdog<7,>=2.1.5 (from streamlit)\n",
            "  Downloading watchdog-6.0.0-py3-none-manylinux2014_x86_64.whl.metadata (44 kB)\n",
            "\u001b[2K     \u001b[90m━━━━━━━━━━━━━━━━━━━━━━━━━━━━━━━━━━━━━━━━\u001b[0m \u001b[32m44.3/44.3 kB\u001b[0m \u001b[31m1.6 MB/s\u001b[0m eta \u001b[36m0:00:00\u001b[0m\n",
            "\u001b[?25hRequirement already satisfied: gitpython!=3.1.19,<4,>=3.0.7 in /usr/local/lib/python3.11/dist-packages (from streamlit) (3.1.44)\n",
            "Collecting pydeck<1,>=0.8.0b4 (from streamlit)\n",
            "  Downloading pydeck-0.9.1-py2.py3-none-any.whl.metadata (4.1 kB)\n",
            "Requirement already satisfied: tornado<7,>=6.0.3 in /usr/local/lib/python3.11/dist-packages (from streamlit) (6.4.2)\n",
            "Requirement already satisfied: jinja2 in /usr/local/lib/python3.11/dist-packages (from altair<6,>=4.0->streamlit) (3.1.5)\n",
            "Requirement already satisfied: jsonschema>=3.0 in /usr/local/lib/python3.11/dist-packages (from altair<6,>=4.0->streamlit) (4.23.0)\n",
            "Requirement already satisfied: narwhals>=1.14.2 in /usr/local/lib/python3.11/dist-packages (from altair<6,>=4.0->streamlit) (1.27.1)\n",
            "Requirement already satisfied: gitdb<5,>=4.0.1 in /usr/local/lib/python3.11/dist-packages (from gitpython!=3.1.19,<4,>=3.0.7->streamlit) (4.0.12)\n",
            "Requirement already satisfied: python-dateutil>=2.8.2 in /usr/local/lib/python3.11/dist-packages (from pandas<3,>=1.4.0->streamlit) (2.8.2)\n",
            "Requirement already satisfied: pytz>=2020.1 in /usr/local/lib/python3.11/dist-packages (from pandas<3,>=1.4.0->streamlit) (2025.1)\n",
            "Requirement already satisfied: tzdata>=2022.7 in /usr/local/lib/python3.11/dist-packages (from pandas<3,>=1.4.0->streamlit) (2025.1)\n",
            "Requirement already satisfied: charset-normalizer<4,>=2 in /usr/local/lib/python3.11/dist-packages (from requests<3,>=2.27->streamlit) (3.4.1)\n",
            "Requirement already satisfied: idna<4,>=2.5 in /usr/local/lib/python3.11/dist-packages (from requests<3,>=2.27->streamlit) (3.10)\n",
            "Requirement already satisfied: urllib3<3,>=1.21.1 in /usr/local/lib/python3.11/dist-packages (from requests<3,>=2.27->streamlit) (2.3.0)\n",
            "Requirement already satisfied: certifi>=2017.4.17 in /usr/local/lib/python3.11/dist-packages (from requests<3,>=2.27->streamlit) (2025.1.31)\n",
            "Requirement already satisfied: markdown-it-py>=2.2.0 in /usr/local/lib/python3.11/dist-packages (from rich<14,>=10.14.0->streamlit) (3.0.0)\n",
            "Requirement already satisfied: pygments<3.0.0,>=2.13.0 in /usr/local/lib/python3.11/dist-packages (from rich<14,>=10.14.0->streamlit) (2.18.0)\n",
            "Requirement already satisfied: smmap<6,>=3.0.1 in /usr/local/lib/python3.11/dist-packages (from gitdb<5,>=4.0.1->gitpython!=3.1.19,<4,>=3.0.7->streamlit) (5.0.2)\n",
            "Requirement already satisfied: MarkupSafe>=2.0 in /usr/local/lib/python3.11/dist-packages (from jinja2->altair<6,>=4.0->streamlit) (3.0.2)\n",
            "Requirement already satisfied: attrs>=22.2.0 in /usr/local/lib/python3.11/dist-packages (from jsonschema>=3.0->altair<6,>=4.0->streamlit) (25.1.0)\n",
            "Requirement already satisfied: jsonschema-specifications>=2023.03.6 in /usr/local/lib/python3.11/dist-packages (from jsonschema>=3.0->altair<6,>=4.0->streamlit) (2024.10.1)\n",
            "Requirement already satisfied: referencing>=0.28.4 in /usr/local/lib/python3.11/dist-packages (from jsonschema>=3.0->altair<6,>=4.0->streamlit) (0.36.2)\n",
            "Requirement already satisfied: rpds-py>=0.7.1 in /usr/local/lib/python3.11/dist-packages (from jsonschema>=3.0->altair<6,>=4.0->streamlit) (0.23.0)\n",
            "Requirement already satisfied: mdurl~=0.1 in /usr/local/lib/python3.11/dist-packages (from markdown-it-py>=2.2.0->rich<14,>=10.14.0->streamlit) (0.1.2)\n",
            "Requirement already satisfied: six>=1.5 in /usr/local/lib/python3.11/dist-packages (from python-dateutil>=2.8.2->pandas<3,>=1.4.0->streamlit) (1.17.0)\n",
            "Downloading streamlit-1.42.2-py2.py3-none-any.whl (9.6 MB)\n",
            "\u001b[2K   \u001b[90m━━━━━━━━━━━━━━━━━━━━━━━━━━━━━━━━━━━━━━━━\u001b[0m \u001b[32m9.6/9.6 MB\u001b[0m \u001b[31m51.5 MB/s\u001b[0m eta \u001b[36m0:00:00\u001b[0m\n",
            "\u001b[?25hDownloading pydeck-0.9.1-py2.py3-none-any.whl (6.9 MB)\n",
            "\u001b[2K   \u001b[90m━━━━━━━━━━━━━━━━━━━━━━━━━━━━━━━━━━━━━━━━\u001b[0m \u001b[32m6.9/6.9 MB\u001b[0m \u001b[31m65.6 MB/s\u001b[0m eta \u001b[36m0:00:00\u001b[0m\n",
            "\u001b[?25hDownloading watchdog-6.0.0-py3-none-manylinux2014_x86_64.whl (79 kB)\n",
            "\u001b[2K   \u001b[90m━━━━━━━━━━━━━━━━━━━━━━━━━━━━━━━━━━━━━━━━\u001b[0m \u001b[32m79.1/79.1 kB\u001b[0m \u001b[31m5.6 MB/s\u001b[0m eta \u001b[36m0:00:00\u001b[0m\n",
            "\u001b[?25hInstalling collected packages: watchdog, pydeck, streamlit\n",
            "Successfully installed pydeck-0.9.1 streamlit-1.42.2 watchdog-6.0.0\n"
          ]
        }
      ]
    },
    {
      "cell_type": "code",
      "source": [
        "# Bonus task is convert Multiple Linear Regression model into streamlit app."
      ],
      "metadata": {
        "id": "evPg4vmXM0Y2"
      },
      "execution_count": null,
      "outputs": []
    },
    {
      "cell_type": "code",
      "source": [
        "import streamlit as st"
      ],
      "metadata": {
        "id": "b-RjE3W_NXXv"
      },
      "execution_count": null,
      "outputs": []
    },
    {
      "cell_type": "code",
      "source": [
        "features = ['trip_distance', 'fare_amount', 'extra', 'mta_tax', 'tip_amount', 'tolls_amount']\n",
        "target = 'total_amount'\n",
        "Taxi = Taxi.dropna(subset=features + [target])"
      ],
      "metadata": {
        "id": "IymvIeNHOJS8"
      },
      "execution_count": null,
      "outputs": []
    },
    {
      "cell_type": "code",
      "source": [
        "X = Taxi[features]\n",
        "y = Taxi[target]\n",
        "X_train, X_test, y_train, y_test = train_test_split(X, y, test_size=0.2, random_state=42)"
      ],
      "metadata": {
        "id": "6jerUqvSP4bM"
      },
      "execution_count": null,
      "outputs": []
    },
    {
      "cell_type": "code",
      "source": [
        "model = LinearRegression()\n",
        "model.fit(X_train, y_train)\n"
      ],
      "metadata": {
        "id": "eeH23ei9QPHX",
        "colab": {
          "base_uri": "https://localhost:8080/",
          "height": 80
        },
        "outputId": "161afef3-359a-47ca-8841-d33c6dc41c7b"
      },
      "execution_count": null,
      "outputs": [
        {
          "output_type": "execute_result",
          "data": {
            "text/plain": [
              "LinearRegression()"
            ],
            "text/html": [
              "<style>#sk-container-id-1 {\n",
              "  /* Definition of color scheme common for light and dark mode */\n",
              "  --sklearn-color-text: #000;\n",
              "  --sklearn-color-text-muted: #666;\n",
              "  --sklearn-color-line: gray;\n",
              "  /* Definition of color scheme for unfitted estimators */\n",
              "  --sklearn-color-unfitted-level-0: #fff5e6;\n",
              "  --sklearn-color-unfitted-level-1: #f6e4d2;\n",
              "  --sklearn-color-unfitted-level-2: #ffe0b3;\n",
              "  --sklearn-color-unfitted-level-3: chocolate;\n",
              "  /* Definition of color scheme for fitted estimators */\n",
              "  --sklearn-color-fitted-level-0: #f0f8ff;\n",
              "  --sklearn-color-fitted-level-1: #d4ebff;\n",
              "  --sklearn-color-fitted-level-2: #b3dbfd;\n",
              "  --sklearn-color-fitted-level-3: cornflowerblue;\n",
              "\n",
              "  /* Specific color for light theme */\n",
              "  --sklearn-color-text-on-default-background: var(--sg-text-color, var(--theme-code-foreground, var(--jp-content-font-color1, black)));\n",
              "  --sklearn-color-background: var(--sg-background-color, var(--theme-background, var(--jp-layout-color0, white)));\n",
              "  --sklearn-color-border-box: var(--sg-text-color, var(--theme-code-foreground, var(--jp-content-font-color1, black)));\n",
              "  --sklearn-color-icon: #696969;\n",
              "\n",
              "  @media (prefers-color-scheme: dark) {\n",
              "    /* Redefinition of color scheme for dark theme */\n",
              "    --sklearn-color-text-on-default-background: var(--sg-text-color, var(--theme-code-foreground, var(--jp-content-font-color1, white)));\n",
              "    --sklearn-color-background: var(--sg-background-color, var(--theme-background, var(--jp-layout-color0, #111)));\n",
              "    --sklearn-color-border-box: var(--sg-text-color, var(--theme-code-foreground, var(--jp-content-font-color1, white)));\n",
              "    --sklearn-color-icon: #878787;\n",
              "  }\n",
              "}\n",
              "\n",
              "#sk-container-id-1 {\n",
              "  color: var(--sklearn-color-text);\n",
              "}\n",
              "\n",
              "#sk-container-id-1 pre {\n",
              "  padding: 0;\n",
              "}\n",
              "\n",
              "#sk-container-id-1 input.sk-hidden--visually {\n",
              "  border: 0;\n",
              "  clip: rect(1px 1px 1px 1px);\n",
              "  clip: rect(1px, 1px, 1px, 1px);\n",
              "  height: 1px;\n",
              "  margin: -1px;\n",
              "  overflow: hidden;\n",
              "  padding: 0;\n",
              "  position: absolute;\n",
              "  width: 1px;\n",
              "}\n",
              "\n",
              "#sk-container-id-1 div.sk-dashed-wrapped {\n",
              "  border: 1px dashed var(--sklearn-color-line);\n",
              "  margin: 0 0.4em 0.5em 0.4em;\n",
              "  box-sizing: border-box;\n",
              "  padding-bottom: 0.4em;\n",
              "  background-color: var(--sklearn-color-background);\n",
              "}\n",
              "\n",
              "#sk-container-id-1 div.sk-container {\n",
              "  /* jupyter's `normalize.less` sets `[hidden] { display: none; }`\n",
              "     but bootstrap.min.css set `[hidden] { display: none !important; }`\n",
              "     so we also need the `!important` here to be able to override the\n",
              "     default hidden behavior on the sphinx rendered scikit-learn.org.\n",
              "     See: https://github.com/scikit-learn/scikit-learn/issues/21755 */\n",
              "  display: inline-block !important;\n",
              "  position: relative;\n",
              "}\n",
              "\n",
              "#sk-container-id-1 div.sk-text-repr-fallback {\n",
              "  display: none;\n",
              "}\n",
              "\n",
              "div.sk-parallel-item,\n",
              "div.sk-serial,\n",
              "div.sk-item {\n",
              "  /* draw centered vertical line to link estimators */\n",
              "  background-image: linear-gradient(var(--sklearn-color-text-on-default-background), var(--sklearn-color-text-on-default-background));\n",
              "  background-size: 2px 100%;\n",
              "  background-repeat: no-repeat;\n",
              "  background-position: center center;\n",
              "}\n",
              "\n",
              "/* Parallel-specific style estimator block */\n",
              "\n",
              "#sk-container-id-1 div.sk-parallel-item::after {\n",
              "  content: \"\";\n",
              "  width: 100%;\n",
              "  border-bottom: 2px solid var(--sklearn-color-text-on-default-background);\n",
              "  flex-grow: 1;\n",
              "}\n",
              "\n",
              "#sk-container-id-1 div.sk-parallel {\n",
              "  display: flex;\n",
              "  align-items: stretch;\n",
              "  justify-content: center;\n",
              "  background-color: var(--sklearn-color-background);\n",
              "  position: relative;\n",
              "}\n",
              "\n",
              "#sk-container-id-1 div.sk-parallel-item {\n",
              "  display: flex;\n",
              "  flex-direction: column;\n",
              "}\n",
              "\n",
              "#sk-container-id-1 div.sk-parallel-item:first-child::after {\n",
              "  align-self: flex-end;\n",
              "  width: 50%;\n",
              "}\n",
              "\n",
              "#sk-container-id-1 div.sk-parallel-item:last-child::after {\n",
              "  align-self: flex-start;\n",
              "  width: 50%;\n",
              "}\n",
              "\n",
              "#sk-container-id-1 div.sk-parallel-item:only-child::after {\n",
              "  width: 0;\n",
              "}\n",
              "\n",
              "/* Serial-specific style estimator block */\n",
              "\n",
              "#sk-container-id-1 div.sk-serial {\n",
              "  display: flex;\n",
              "  flex-direction: column;\n",
              "  align-items: center;\n",
              "  background-color: var(--sklearn-color-background);\n",
              "  padding-right: 1em;\n",
              "  padding-left: 1em;\n",
              "}\n",
              "\n",
              "\n",
              "/* Toggleable style: style used for estimator/Pipeline/ColumnTransformer box that is\n",
              "clickable and can be expanded/collapsed.\n",
              "- Pipeline and ColumnTransformer use this feature and define the default style\n",
              "- Estimators will overwrite some part of the style using the `sk-estimator` class\n",
              "*/\n",
              "\n",
              "/* Pipeline and ColumnTransformer style (default) */\n",
              "\n",
              "#sk-container-id-1 div.sk-toggleable {\n",
              "  /* Default theme specific background. It is overwritten whether we have a\n",
              "  specific estimator or a Pipeline/ColumnTransformer */\n",
              "  background-color: var(--sklearn-color-background);\n",
              "}\n",
              "\n",
              "/* Toggleable label */\n",
              "#sk-container-id-1 label.sk-toggleable__label {\n",
              "  cursor: pointer;\n",
              "  display: flex;\n",
              "  width: 100%;\n",
              "  margin-bottom: 0;\n",
              "  padding: 0.5em;\n",
              "  box-sizing: border-box;\n",
              "  text-align: center;\n",
              "  align-items: start;\n",
              "  justify-content: space-between;\n",
              "  gap: 0.5em;\n",
              "}\n",
              "\n",
              "#sk-container-id-1 label.sk-toggleable__label .caption {\n",
              "  font-size: 0.6rem;\n",
              "  font-weight: lighter;\n",
              "  color: var(--sklearn-color-text-muted);\n",
              "}\n",
              "\n",
              "#sk-container-id-1 label.sk-toggleable__label-arrow:before {\n",
              "  /* Arrow on the left of the label */\n",
              "  content: \"▸\";\n",
              "  float: left;\n",
              "  margin-right: 0.25em;\n",
              "  color: var(--sklearn-color-icon);\n",
              "}\n",
              "\n",
              "#sk-container-id-1 label.sk-toggleable__label-arrow:hover:before {\n",
              "  color: var(--sklearn-color-text);\n",
              "}\n",
              "\n",
              "/* Toggleable content - dropdown */\n",
              "\n",
              "#sk-container-id-1 div.sk-toggleable__content {\n",
              "  max-height: 0;\n",
              "  max-width: 0;\n",
              "  overflow: hidden;\n",
              "  text-align: left;\n",
              "  /* unfitted */\n",
              "  background-color: var(--sklearn-color-unfitted-level-0);\n",
              "}\n",
              "\n",
              "#sk-container-id-1 div.sk-toggleable__content.fitted {\n",
              "  /* fitted */\n",
              "  background-color: var(--sklearn-color-fitted-level-0);\n",
              "}\n",
              "\n",
              "#sk-container-id-1 div.sk-toggleable__content pre {\n",
              "  margin: 0.2em;\n",
              "  border-radius: 0.25em;\n",
              "  color: var(--sklearn-color-text);\n",
              "  /* unfitted */\n",
              "  background-color: var(--sklearn-color-unfitted-level-0);\n",
              "}\n",
              "\n",
              "#sk-container-id-1 div.sk-toggleable__content.fitted pre {\n",
              "  /* unfitted */\n",
              "  background-color: var(--sklearn-color-fitted-level-0);\n",
              "}\n",
              "\n",
              "#sk-container-id-1 input.sk-toggleable__control:checked~div.sk-toggleable__content {\n",
              "  /* Expand drop-down */\n",
              "  max-height: 200px;\n",
              "  max-width: 100%;\n",
              "  overflow: auto;\n",
              "}\n",
              "\n",
              "#sk-container-id-1 input.sk-toggleable__control:checked~label.sk-toggleable__label-arrow:before {\n",
              "  content: \"▾\";\n",
              "}\n",
              "\n",
              "/* Pipeline/ColumnTransformer-specific style */\n",
              "\n",
              "#sk-container-id-1 div.sk-label input.sk-toggleable__control:checked~label.sk-toggleable__label {\n",
              "  color: var(--sklearn-color-text);\n",
              "  background-color: var(--sklearn-color-unfitted-level-2);\n",
              "}\n",
              "\n",
              "#sk-container-id-1 div.sk-label.fitted input.sk-toggleable__control:checked~label.sk-toggleable__label {\n",
              "  background-color: var(--sklearn-color-fitted-level-2);\n",
              "}\n",
              "\n",
              "/* Estimator-specific style */\n",
              "\n",
              "/* Colorize estimator box */\n",
              "#sk-container-id-1 div.sk-estimator input.sk-toggleable__control:checked~label.sk-toggleable__label {\n",
              "  /* unfitted */\n",
              "  background-color: var(--sklearn-color-unfitted-level-2);\n",
              "}\n",
              "\n",
              "#sk-container-id-1 div.sk-estimator.fitted input.sk-toggleable__control:checked~label.sk-toggleable__label {\n",
              "  /* fitted */\n",
              "  background-color: var(--sklearn-color-fitted-level-2);\n",
              "}\n",
              "\n",
              "#sk-container-id-1 div.sk-label label.sk-toggleable__label,\n",
              "#sk-container-id-1 div.sk-label label {\n",
              "  /* The background is the default theme color */\n",
              "  color: var(--sklearn-color-text-on-default-background);\n",
              "}\n",
              "\n",
              "/* On hover, darken the color of the background */\n",
              "#sk-container-id-1 div.sk-label:hover label.sk-toggleable__label {\n",
              "  color: var(--sklearn-color-text);\n",
              "  background-color: var(--sklearn-color-unfitted-level-2);\n",
              "}\n",
              "\n",
              "/* Label box, darken color on hover, fitted */\n",
              "#sk-container-id-1 div.sk-label.fitted:hover label.sk-toggleable__label.fitted {\n",
              "  color: var(--sklearn-color-text);\n",
              "  background-color: var(--sklearn-color-fitted-level-2);\n",
              "}\n",
              "\n",
              "/* Estimator label */\n",
              "\n",
              "#sk-container-id-1 div.sk-label label {\n",
              "  font-family: monospace;\n",
              "  font-weight: bold;\n",
              "  display: inline-block;\n",
              "  line-height: 1.2em;\n",
              "}\n",
              "\n",
              "#sk-container-id-1 div.sk-label-container {\n",
              "  text-align: center;\n",
              "}\n",
              "\n",
              "/* Estimator-specific */\n",
              "#sk-container-id-1 div.sk-estimator {\n",
              "  font-family: monospace;\n",
              "  border: 1px dotted var(--sklearn-color-border-box);\n",
              "  border-radius: 0.25em;\n",
              "  box-sizing: border-box;\n",
              "  margin-bottom: 0.5em;\n",
              "  /* unfitted */\n",
              "  background-color: var(--sklearn-color-unfitted-level-0);\n",
              "}\n",
              "\n",
              "#sk-container-id-1 div.sk-estimator.fitted {\n",
              "  /* fitted */\n",
              "  background-color: var(--sklearn-color-fitted-level-0);\n",
              "}\n",
              "\n",
              "/* on hover */\n",
              "#sk-container-id-1 div.sk-estimator:hover {\n",
              "  /* unfitted */\n",
              "  background-color: var(--sklearn-color-unfitted-level-2);\n",
              "}\n",
              "\n",
              "#sk-container-id-1 div.sk-estimator.fitted:hover {\n",
              "  /* fitted */\n",
              "  background-color: var(--sklearn-color-fitted-level-2);\n",
              "}\n",
              "\n",
              "/* Specification for estimator info (e.g. \"i\" and \"?\") */\n",
              "\n",
              "/* Common style for \"i\" and \"?\" */\n",
              "\n",
              ".sk-estimator-doc-link,\n",
              "a:link.sk-estimator-doc-link,\n",
              "a:visited.sk-estimator-doc-link {\n",
              "  float: right;\n",
              "  font-size: smaller;\n",
              "  line-height: 1em;\n",
              "  font-family: monospace;\n",
              "  background-color: var(--sklearn-color-background);\n",
              "  border-radius: 1em;\n",
              "  height: 1em;\n",
              "  width: 1em;\n",
              "  text-decoration: none !important;\n",
              "  margin-left: 0.5em;\n",
              "  text-align: center;\n",
              "  /* unfitted */\n",
              "  border: var(--sklearn-color-unfitted-level-1) 1pt solid;\n",
              "  color: var(--sklearn-color-unfitted-level-1);\n",
              "}\n",
              "\n",
              ".sk-estimator-doc-link.fitted,\n",
              "a:link.sk-estimator-doc-link.fitted,\n",
              "a:visited.sk-estimator-doc-link.fitted {\n",
              "  /* fitted */\n",
              "  border: var(--sklearn-color-fitted-level-1) 1pt solid;\n",
              "  color: var(--sklearn-color-fitted-level-1);\n",
              "}\n",
              "\n",
              "/* On hover */\n",
              "div.sk-estimator:hover .sk-estimator-doc-link:hover,\n",
              ".sk-estimator-doc-link:hover,\n",
              "div.sk-label-container:hover .sk-estimator-doc-link:hover,\n",
              ".sk-estimator-doc-link:hover {\n",
              "  /* unfitted */\n",
              "  background-color: var(--sklearn-color-unfitted-level-3);\n",
              "  color: var(--sklearn-color-background);\n",
              "  text-decoration: none;\n",
              "}\n",
              "\n",
              "div.sk-estimator.fitted:hover .sk-estimator-doc-link.fitted:hover,\n",
              ".sk-estimator-doc-link.fitted:hover,\n",
              "div.sk-label-container:hover .sk-estimator-doc-link.fitted:hover,\n",
              ".sk-estimator-doc-link.fitted:hover {\n",
              "  /* fitted */\n",
              "  background-color: var(--sklearn-color-fitted-level-3);\n",
              "  color: var(--sklearn-color-background);\n",
              "  text-decoration: none;\n",
              "}\n",
              "\n",
              "/* Span, style for the box shown on hovering the info icon */\n",
              ".sk-estimator-doc-link span {\n",
              "  display: none;\n",
              "  z-index: 9999;\n",
              "  position: relative;\n",
              "  font-weight: normal;\n",
              "  right: .2ex;\n",
              "  padding: .5ex;\n",
              "  margin: .5ex;\n",
              "  width: min-content;\n",
              "  min-width: 20ex;\n",
              "  max-width: 50ex;\n",
              "  color: var(--sklearn-color-text);\n",
              "  box-shadow: 2pt 2pt 4pt #999;\n",
              "  /* unfitted */\n",
              "  background: var(--sklearn-color-unfitted-level-0);\n",
              "  border: .5pt solid var(--sklearn-color-unfitted-level-3);\n",
              "}\n",
              "\n",
              ".sk-estimator-doc-link.fitted span {\n",
              "  /* fitted */\n",
              "  background: var(--sklearn-color-fitted-level-0);\n",
              "  border: var(--sklearn-color-fitted-level-3);\n",
              "}\n",
              "\n",
              ".sk-estimator-doc-link:hover span {\n",
              "  display: block;\n",
              "}\n",
              "\n",
              "/* \"?\"-specific style due to the `<a>` HTML tag */\n",
              "\n",
              "#sk-container-id-1 a.estimator_doc_link {\n",
              "  float: right;\n",
              "  font-size: 1rem;\n",
              "  line-height: 1em;\n",
              "  font-family: monospace;\n",
              "  background-color: var(--sklearn-color-background);\n",
              "  border-radius: 1rem;\n",
              "  height: 1rem;\n",
              "  width: 1rem;\n",
              "  text-decoration: none;\n",
              "  /* unfitted */\n",
              "  color: var(--sklearn-color-unfitted-level-1);\n",
              "  border: var(--sklearn-color-unfitted-level-1) 1pt solid;\n",
              "}\n",
              "\n",
              "#sk-container-id-1 a.estimator_doc_link.fitted {\n",
              "  /* fitted */\n",
              "  border: var(--sklearn-color-fitted-level-1) 1pt solid;\n",
              "  color: var(--sklearn-color-fitted-level-1);\n",
              "}\n",
              "\n",
              "/* On hover */\n",
              "#sk-container-id-1 a.estimator_doc_link:hover {\n",
              "  /* unfitted */\n",
              "  background-color: var(--sklearn-color-unfitted-level-3);\n",
              "  color: var(--sklearn-color-background);\n",
              "  text-decoration: none;\n",
              "}\n",
              "\n",
              "#sk-container-id-1 a.estimator_doc_link.fitted:hover {\n",
              "  /* fitted */\n",
              "  background-color: var(--sklearn-color-fitted-level-3);\n",
              "}\n",
              "</style><div id=\"sk-container-id-1\" class=\"sk-top-container\"><div class=\"sk-text-repr-fallback\"><pre>LinearRegression()</pre><b>In a Jupyter environment, please rerun this cell to show the HTML representation or trust the notebook. <br />On GitHub, the HTML representation is unable to render, please try loading this page with nbviewer.org.</b></div><div class=\"sk-container\" hidden><div class=\"sk-item\"><div class=\"sk-estimator fitted sk-toggleable\"><input class=\"sk-toggleable__control sk-hidden--visually\" id=\"sk-estimator-id-1\" type=\"checkbox\" checked><label for=\"sk-estimator-id-1\" class=\"sk-toggleable__label fitted sk-toggleable__label-arrow\"><div><div>LinearRegression</div></div><div><a class=\"sk-estimator-doc-link fitted\" rel=\"noreferrer\" target=\"_blank\" href=\"https://scikit-learn.org/1.6/modules/generated/sklearn.linear_model.LinearRegression.html\">?<span>Documentation for LinearRegression</span></a><span class=\"sk-estimator-doc-link fitted\">i<span>Fitted</span></span></div></label><div class=\"sk-toggleable__content fitted\"><pre>LinearRegression()</pre></div> </div></div></div></div>"
            ]
          },
          "metadata": {},
          "execution_count": 74
        }
      ]
    },
    {
      "cell_type": "code",
      "source": [
        "y_pred = model.predict(X_test)"
      ],
      "metadata": {
        "id": "WvOHyRVyh3Zu"
      },
      "execution_count": null,
      "outputs": []
    },
    {
      "cell_type": "code",
      "source": [
        "mse = mean_squared_error(y_test, y_pred)\n",
        "r2 = r2_score(y_test, y_pred)\n",
        "\n",
        "st.title(\"Multiple Linear Regression Taxi Fare Prediction\")\n",
        "st.write(\"This app predicts taxi fare based on various trip attributes.\")\n"
      ],
      "metadata": {
        "colab": {
          "base_uri": "https://localhost:8080/"
        },
        "id": "kZZiQy2yhNLv",
        "outputId": "ef34d836-0e5b-43c7-a4a8-9fa0587db683"
      },
      "execution_count": null,
      "outputs": [
        {
          "output_type": "stream",
          "name": "stderr",
          "text": [
            "2025-02-28 09:52:04.551 Thread 'MainThread': missing ScriptRunContext! This warning can be ignored when running in bare mode.\n",
            "2025-02-28 09:52:04.555 Thread 'MainThread': missing ScriptRunContext! This warning can be ignored when running in bare mode.\n",
            "2025-02-28 09:52:04.558 Thread 'MainThread': missing ScriptRunContext! This warning can be ignored when running in bare mode.\n",
            "2025-02-28 09:52:04.560 Thread 'MainThread': missing ScriptRunContext! This warning can be ignored when running in bare mode.\n",
            "2025-02-28 09:52:04.564 Thread 'MainThread': missing ScriptRunContext! This warning can be ignored when running in bare mode.\n",
            "2025-02-28 09:52:04.566 Thread 'MainThread': missing ScriptRunContext! This warning can be ignored when running in bare mode.\n"
          ]
        }
      ]
    },
    {
      "cell_type": "code",
      "source": [
        "st.sidebar.header(\"Input Features\")\n",
        "def user_input_features():\n",
        "    input_data = {}\n",
        "    for feature in features:\n",
        "        input_data[feature] = st.sidebar.number_input(f\"{feature}\", value=float(Taxi[feature].mean()))\n",
        "    return pd.DataFrame([input_data])\n",
        "input_Taxi = user_input_features()\n",
        "prediction = model.predict(input_Taxi)\n"
      ],
      "metadata": {
        "colab": {
          "base_uri": "https://localhost:8080/"
        },
        "id": "Rl08vi9RhRY_",
        "outputId": "0cd30164-671b-4526-fb94-5a7d4911dccc"
      },
      "execution_count": null,
      "outputs": [
        {
          "output_type": "stream",
          "name": "stderr",
          "text": [
            "2025-02-28 09:50:38.682 Thread 'MainThread': missing ScriptRunContext! This warning can be ignored when running in bare mode.\n",
            "2025-02-28 09:50:38.683 Thread 'MainThread': missing ScriptRunContext! This warning can be ignored when running in bare mode.\n",
            "2025-02-28 09:50:38.686 Thread 'MainThread': missing ScriptRunContext! This warning can be ignored when running in bare mode.\n",
            "2025-02-28 09:50:38.687 Thread 'MainThread': missing ScriptRunContext! This warning can be ignored when running in bare mode.\n",
            "2025-02-28 09:50:38.688 Thread 'MainThread': missing ScriptRunContext! This warning can be ignored when running in bare mode.\n",
            "2025-02-28 09:50:38.689 Thread 'MainThread': missing ScriptRunContext! This warning can be ignored when running in bare mode.\n",
            "2025-02-28 09:50:38.691 Session state does not function when running a script without `streamlit run`\n",
            "2025-02-28 09:50:38.693 Thread 'MainThread': missing ScriptRunContext! This warning can be ignored when running in bare mode.\n",
            "2025-02-28 09:50:38.693 Thread 'MainThread': missing ScriptRunContext! This warning can be ignored when running in bare mode.\n",
            "2025-02-28 09:50:38.695 Thread 'MainThread': missing ScriptRunContext! This warning can be ignored when running in bare mode.\n",
            "2025-02-28 09:50:38.696 Thread 'MainThread': missing ScriptRunContext! This warning can be ignored when running in bare mode.\n",
            "2025-02-28 09:50:38.699 Thread 'MainThread': missing ScriptRunContext! This warning can be ignored when running in bare mode.\n",
            "2025-02-28 09:50:38.700 Thread 'MainThread': missing ScriptRunContext! This warning can be ignored when running in bare mode.\n",
            "2025-02-28 09:50:38.701 Thread 'MainThread': missing ScriptRunContext! This warning can be ignored when running in bare mode.\n",
            "2025-02-28 09:50:38.702 Thread 'MainThread': missing ScriptRunContext! This warning can be ignored when running in bare mode.\n",
            "2025-02-28 09:50:38.704 Thread 'MainThread': missing ScriptRunContext! This warning can be ignored when running in bare mode.\n",
            "2025-02-28 09:50:38.704 Thread 'MainThread': missing ScriptRunContext! This warning can be ignored when running in bare mode.\n",
            "2025-02-28 09:50:38.705 Thread 'MainThread': missing ScriptRunContext! This warning can be ignored when running in bare mode.\n",
            "2025-02-28 09:50:38.710 Thread 'MainThread': missing ScriptRunContext! This warning can be ignored when running in bare mode.\n",
            "2025-02-28 09:50:38.711 Thread 'MainThread': missing ScriptRunContext! This warning can be ignored when running in bare mode.\n",
            "2025-02-28 09:50:38.712 Thread 'MainThread': missing ScriptRunContext! This warning can be ignored when running in bare mode.\n",
            "2025-02-28 09:50:38.714 Thread 'MainThread': missing ScriptRunContext! This warning can be ignored when running in bare mode.\n",
            "2025-02-28 09:50:38.714 Thread 'MainThread': missing ScriptRunContext! This warning can be ignored when running in bare mode.\n",
            "2025-02-28 09:50:38.715 Thread 'MainThread': missing ScriptRunContext! This warning can be ignored when running in bare mode.\n",
            "2025-02-28 09:50:38.716 Thread 'MainThread': missing ScriptRunContext! This warning can be ignored when running in bare mode.\n",
            "2025-02-28 09:50:38.717 Thread 'MainThread': missing ScriptRunContext! This warning can be ignored when running in bare mode.\n",
            "2025-02-28 09:50:38.717 Thread 'MainThread': missing ScriptRunContext! This warning can be ignored when running in bare mode.\n",
            "2025-02-28 09:50:38.719 Thread 'MainThread': missing ScriptRunContext! This warning can be ignored when running in bare mode.\n",
            "2025-02-28 09:50:38.719 Thread 'MainThread': missing ScriptRunContext! This warning can be ignored when running in bare mode.\n",
            "2025-02-28 09:50:38.720 Thread 'MainThread': missing ScriptRunContext! This warning can be ignored when running in bare mode.\n",
            "2025-02-28 09:50:38.722 Thread 'MainThread': missing ScriptRunContext! This warning can be ignored when running in bare mode.\n",
            "2025-02-28 09:50:38.723 Thread 'MainThread': missing ScriptRunContext! This warning can be ignored when running in bare mode.\n",
            "2025-02-28 09:50:38.724 Thread 'MainThread': missing ScriptRunContext! This warning can be ignored when running in bare mode.\n",
            "2025-02-28 09:50:38.725 Thread 'MainThread': missing ScriptRunContext! This warning can be ignored when running in bare mode.\n",
            "2025-02-28 09:50:38.728 Thread 'MainThread': missing ScriptRunContext! This warning can be ignored when running in bare mode.\n",
            "2025-02-28 09:50:38.729 Thread 'MainThread': missing ScriptRunContext! This warning can be ignored when running in bare mode.\n",
            "2025-02-28 09:50:38.730 Thread 'MainThread': missing ScriptRunContext! This warning can be ignored when running in bare mode.\n",
            "2025-02-28 09:50:38.731 Thread 'MainThread': missing ScriptRunContext! This warning can be ignored when running in bare mode.\n",
            "2025-02-28 09:50:38.731 Thread 'MainThread': missing ScriptRunContext! This warning can be ignored when running in bare mode.\n"
          ]
        }
      ]
    },
    {
      "cell_type": "code",
      "source": [
        "st.subheader(\"Model Evaluation\")\n",
        "st.write(f\"Mean Squared Error: {mse:.2f}\")\n",
        "st.write(f\"R² Score: {r2:.2f}\")\n",
        "\n",
        "st.subheader(\"Prediction\")\n",
        "st.write(f\"Estimated Total Fare: ${prediction[0]:.2f}\")\n"
      ],
      "metadata": {
        "colab": {
          "base_uri": "https://localhost:8080/"
        },
        "id": "pX9v_37qiN0g",
        "outputId": "6941fb98-6948-48f7-bfda-335b035aa453"
      },
      "execution_count": null,
      "outputs": [
        {
          "output_type": "stream",
          "name": "stderr",
          "text": [
            "2025-02-28 09:50:38.748 Thread 'MainThread': missing ScriptRunContext! This warning can be ignored when running in bare mode.\n",
            "2025-02-28 09:50:38.757 Thread 'MainThread': missing ScriptRunContext! This warning can be ignored when running in bare mode.\n",
            "2025-02-28 09:50:38.758 Thread 'MainThread': missing ScriptRunContext! This warning can be ignored when running in bare mode.\n",
            "2025-02-28 09:50:38.759 Thread 'MainThread': missing ScriptRunContext! This warning can be ignored when running in bare mode.\n",
            "2025-02-28 09:50:38.760 Thread 'MainThread': missing ScriptRunContext! This warning can be ignored when running in bare mode.\n",
            "2025-02-28 09:50:38.763 Thread 'MainThread': missing ScriptRunContext! This warning can be ignored when running in bare mode.\n",
            "2025-02-28 09:50:38.764 Thread 'MainThread': missing ScriptRunContext! This warning can be ignored when running in bare mode.\n",
            "2025-02-28 09:50:38.764 Thread 'MainThread': missing ScriptRunContext! This warning can be ignored when running in bare mode.\n",
            "2025-02-28 09:50:38.765 Thread 'MainThread': missing ScriptRunContext! This warning can be ignored when running in bare mode.\n",
            "2025-02-28 09:50:38.766 Thread 'MainThread': missing ScriptRunContext! This warning can be ignored when running in bare mode.\n",
            "2025-02-28 09:50:38.766 Thread 'MainThread': missing ScriptRunContext! This warning can be ignored when running in bare mode.\n",
            "2025-02-28 09:50:38.770 Thread 'MainThread': missing ScriptRunContext! This warning can be ignored when running in bare mode.\n",
            "2025-02-28 09:50:38.770 Thread 'MainThread': missing ScriptRunContext! This warning can be ignored when running in bare mode.\n",
            "2025-02-28 09:50:38.771 Thread 'MainThread': missing ScriptRunContext! This warning can be ignored when running in bare mode.\n",
            "2025-02-28 09:50:38.772 Thread 'MainThread': missing ScriptRunContext! This warning can be ignored when running in bare mode.\n",
            "2025-02-28 09:50:38.772 Thread 'MainThread': missing ScriptRunContext! This warning can be ignored when running in bare mode.\n"
          ]
        }
      ]
    },
    {
      "cell_type": "code",
      "source": [
        "from nltk.chat.util import Chat, reflections"
      ],
      "metadata": {
        "id": "cRFwxZHNiSY0"
      },
      "execution_count": null,
      "outputs": []
    },
    {
      "cell_type": "code",
      "source": [
        "def get_summary():\n",
        "    return Taxi.describe().to_string()\n",
        "\n",
        "def get_columns():\n",
        "    return \", \".join(Taxi.columns)\n",
        "\n",
        "def get_sample_data():\n",
        "    return Taxi.head().to_string()\n",
        "def get_fare_summary():\n",
        "    return Taxi[['fare_amount', 'tip_amount', 'total_amount']].describe().to_string()\n",
        "\n",
        "def get_trip_distance_summary():\n",
        "    return Taxi[['trip_distance']].describe().to_string()\n"
      ],
      "metadata": {
        "id": "oJ2rOu_6i1Ft"
      },
      "execution_count": null,
      "outputs": []
    },
    {
      "cell_type": "code",
      "source": [
        "def get_column_data(column_name):\n",
        "    if column_name in Taxi.columns:\n",
        "        return Taxi[column_name].dropna().sample(5).to_string()\n",
        "    return \"Column not found in the dataset.\""
      ],
      "metadata": {
        "id": "4TMGnkaZjCQp"
      },
      "execution_count": null,
      "outputs": []
    },
    {
      "cell_type": "code",
      "source": [
        "pairs = [\n",
        "    [\n",
        "        r\"hi|hello|hey\",\n",
        "        [\"Hello! Welcome to the Taxi Data Chatbot.\", \"Hi there! How can I assist you?\"]\n",
        "    ],\n",
        "    [\n",
        "        r\"what columns are available?\",\n",
        "        [lambda matches: f\"The dataset contains the following columns: {get_columns()}.\"]\n",
        "    ],\n",
        "    [\n",
        "        r\"give me a summary of the data\",\n",
        "        [lambda matches: f\"Here's a summary of the dataset:\\n{get_summary()}.\"]\n",
        "    ],\n",
        "    [\n",
        "        r\"show me some sample data\",\n",
        "        [lambda matches: f\"Here are some sample records:\\n{get_sample_data()}.\"]\n",
        "    ],\n",
        "    [\n",
        "        r\"show me some values from (.*)\",\n",
        "        [lambda matches: f\"Here are some sample values from {matches[0]}:\\n{get_column_data(matches[0])}.\"]\n",
        "    ],\n",
        "    [\n",
        "        r\"(.*) your name ?\",\n",
        "        [\"I'm a chatbot that provides insights into the taxi dataset!\"]\n",
        "    ],\n",
        "    [\n",
        "        r\"quit\",\n",
        "        [\"Goodbye! Have a great day!\", \"See you later!\"]\n",
        "    ]\n",
        "]"
      ],
      "metadata": {
        "id": "DUWL9p9CjEWZ"
      },
      "execution_count": null,
      "outputs": []
    },
    {
      "cell_type": "code",
      "source": [
        "chatbot = Chat(pairs, reflections)\n",
        "def start_chat():\n",
        "    print(\"Hello! I'm a chatbot that can analyze taxi data. Type 'quit' to exit.\")\n",
        "    chatbot.converse()\n"
      ],
      "metadata": {
        "id": "ASswVEusjNsB"
      },
      "execution_count": null,
      "outputs": []
    },
    {
      "cell_type": "code",
      "source": [
        "st.title(\"Taxi Data Chatbot\")\n",
        "st.write(\"This chatbot provides insights into the taxi dataset.\")\n",
        "\n",
        "if st.button(\"Start Chat in Console\"):\n",
        "    start_chat()\n"
      ],
      "metadata": {
        "colab": {
          "base_uri": "https://localhost:8080/"
        },
        "id": "c38nhvscjTKv",
        "outputId": "2dd7ba74-08ec-4a7c-844f-91015ac93137"
      },
      "execution_count": null,
      "outputs": [
        {
          "output_type": "stream",
          "name": "stderr",
          "text": [
            "2025-02-28 09:50:41.179 Thread 'MainThread': missing ScriptRunContext! This warning can be ignored when running in bare mode.\n",
            "2025-02-28 09:50:41.182 Thread 'MainThread': missing ScriptRunContext! This warning can be ignored when running in bare mode.\n",
            "2025-02-28 09:50:41.185 Thread 'MainThread': missing ScriptRunContext! This warning can be ignored when running in bare mode.\n",
            "2025-02-28 09:50:41.193 Thread 'MainThread': missing ScriptRunContext! This warning can be ignored when running in bare mode.\n",
            "2025-02-28 09:50:41.212 Thread 'MainThread': missing ScriptRunContext! This warning can be ignored when running in bare mode.\n",
            "2025-02-28 09:50:41.215 Thread 'MainThread': missing ScriptRunContext! This warning can be ignored when running in bare mode.\n",
            "2025-02-28 09:50:41.221 Thread 'MainThread': missing ScriptRunContext! This warning can be ignored when running in bare mode.\n",
            "2025-02-28 09:50:41.226 Thread 'MainThread': missing ScriptRunContext! This warning can be ignored when running in bare mode.\n",
            "2025-02-28 09:50:41.229 Thread 'MainThread': missing ScriptRunContext! This warning can be ignored when running in bare mode.\n",
            "2025-02-28 09:50:41.232 Thread 'MainThread': missing ScriptRunContext! This warning can be ignored when running in bare mode.\n",
            "2025-02-28 09:50:41.235 Thread 'MainThread': missing ScriptRunContext! This warning can be ignored when running in bare mode.\n"
          ]
        }
      ]
    },
    {
      "cell_type": "code",
      "source": [
        "st.title(\"NYC Taxi Fare Prediction\")\n",
        "# User Inputs\n",
        "trip_distance = st.number_input(\"Trip Distance\")\n",
        "passenger_count = st.number_input(\"Passenger Count\")\n",
        "\n",
        "# Predict Button\n",
        "if st.button(\"Predict Fare\"):\n",
        "    input_data = np.array([[trip_distance, passenger_count]])\n",
        "    input_data = scaler.transform(input_data)\n",
        "    prediction = lr.predict(input_data)\n",
        "    st.write(f\"Predicted Fare: ${prediction[0]:.2f}\")\n"
      ],
      "metadata": {
        "colab": {
          "base_uri": "https://localhost:8080/"
        },
        "id": "K75mFmS2jWuQ",
        "outputId": "3915b023-ee9e-4a9c-eba7-36b8617f2341"
      },
      "execution_count": null,
      "outputs": [
        {
          "output_type": "stream",
          "name": "stderr",
          "text": [
            "2025-02-28 09:50:41.255 Thread 'MainThread': missing ScriptRunContext! This warning can be ignored when running in bare mode.\n",
            "2025-02-28 09:50:41.269 Thread 'MainThread': missing ScriptRunContext! This warning can be ignored when running in bare mode.\n",
            "2025-02-28 09:50:41.272 Thread 'MainThread': missing ScriptRunContext! This warning can be ignored when running in bare mode.\n",
            "2025-02-28 09:50:41.274 Thread 'MainThread': missing ScriptRunContext! This warning can be ignored when running in bare mode.\n",
            "2025-02-28 09:50:41.278 Thread 'MainThread': missing ScriptRunContext! This warning can be ignored when running in bare mode.\n",
            "2025-02-28 09:50:41.279 Thread 'MainThread': missing ScriptRunContext! This warning can be ignored when running in bare mode.\n",
            "2025-02-28 09:50:41.284 Thread 'MainThread': missing ScriptRunContext! This warning can be ignored when running in bare mode.\n",
            "2025-02-28 09:50:41.286 Thread 'MainThread': missing ScriptRunContext! This warning can be ignored when running in bare mode.\n",
            "2025-02-28 09:50:41.299 Thread 'MainThread': missing ScriptRunContext! This warning can be ignored when running in bare mode.\n",
            "2025-02-28 09:50:41.301 Thread 'MainThread': missing ScriptRunContext! This warning can be ignored when running in bare mode.\n",
            "2025-02-28 09:50:41.302 Thread 'MainThread': missing ScriptRunContext! This warning can be ignored when running in bare mode.\n",
            "2025-02-28 09:50:41.313 Thread 'MainThread': missing ScriptRunContext! This warning can be ignored when running in bare mode.\n",
            "2025-02-28 09:50:41.319 Thread 'MainThread': missing ScriptRunContext! This warning can be ignored when running in bare mode.\n",
            "2025-02-28 09:50:41.320 Thread 'MainThread': missing ScriptRunContext! This warning can be ignored when running in bare mode.\n",
            "2025-02-28 09:50:41.324 Thread 'MainThread': missing ScriptRunContext! This warning can be ignored when running in bare mode.\n",
            "2025-02-28 09:50:41.326 Thread 'MainThread': missing ScriptRunContext! This warning can be ignored when running in bare mode.\n",
            "2025-02-28 09:50:41.327 Thread 'MainThread': missing ScriptRunContext! This warning can be ignored when running in bare mode.\n",
            "2025-02-28 09:50:41.329 Thread 'MainThread': missing ScriptRunContext! This warning can be ignored when running in bare mode.\n",
            "2025-02-28 09:50:41.330 Thread 'MainThread': missing ScriptRunContext! This warning can be ignored when running in bare mode.\n"
          ]
        }
      ]
    },
    {
      "cell_type": "code",
      "source": [],
      "metadata": {
        "id": "o-mXSoXHqX9Y"
      },
      "execution_count": null,
      "outputs": []
    },
    {
      "cell_type": "code",
      "source": [],
      "metadata": {
        "id": "I8RzviRurLdE"
      },
      "execution_count": null,
      "outputs": []
    },
    {
      "cell_type": "code",
      "source": [],
      "metadata": {
        "id": "Ho8AkZqCrZx2"
      },
      "execution_count": null,
      "outputs": []
    }
  ]
}