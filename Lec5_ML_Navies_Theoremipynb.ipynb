{
  "nbformat": 4,
  "nbformat_minor": 0,
  "metadata": {
    "colab": {
      "provenance": []
    },
    "kernelspec": {
      "name": "python3",
      "display_name": "Python 3"
    },
    "language_info": {
      "name": "python"
    }
  },
  "cells": [
    {
      "cell_type": "code",
      "execution_count": null,
      "metadata": {
        "id": "tk8ic1xLpBL3"
      },
      "outputs": [],
      "source": [
        "# Naive Bayes Algorithm\n",
        "# Classification only\n",
        "# Supervised Algo\n",
        "# Based on Bayes Theroem  or conditional probability\n",
        "# Predominatly used in text Classification , Spam Filtering , Sentimetal Analaysis\n",
        "# Probalitic Classifier which means it predicts basis of probability of an object\n",
        "# Naive Because it assumes that independent variables are independednt of each other\n",
        "# It uses Bayes Theoerm\n",
        "# P(A/B) = P(B/A) * P(A)    -------> Classification Prior\n",
        "#         --------------\n",
        "#             P(B)     ---> Predictor Prior                            probability of A  OCCURED gives B has already been occured\n",
        "# Posterior Probability\n",
        "\n",
        "\n",
        "# Bayes Theorem  of Multivariate Data is\n",
        "# P(y=kn / x1,x2,x3.......xn) = P(x1/y=k)P(X2/y=k) ......P(Xn/y=k)*P(y=k)\n",
        "#                                ---------------------------------------\n",
        "#                                P(X1)P(X2).......P(Xn)\n",
        "\n"
      ]
    }
  ]
}